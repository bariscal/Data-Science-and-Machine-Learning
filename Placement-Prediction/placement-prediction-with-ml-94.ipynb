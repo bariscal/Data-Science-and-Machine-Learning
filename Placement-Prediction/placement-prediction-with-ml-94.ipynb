{
 "cells": [
  {
   "cell_type": "code",
   "execution_count": 1,
   "metadata": {
    "_cell_guid": "b1076dfc-b9ad-4769-8c92-a6c4dae69d19",
    "_uuid": "8f2839f25d086af736a60e9eeb907d3b93b6e0e5",
    "execution": {
     "iopub.execute_input": "2021-03-07T21:25:33.478533Z",
     "iopub.status.busy": "2021-03-07T21:25:33.477698Z",
     "iopub.status.idle": "2021-03-07T21:25:33.493779Z",
     "shell.execute_reply": "2021-03-07T21:25:33.492989Z"
    },
    "papermill": {
     "duration": 0.055557,
     "end_time": "2021-03-07T21:25:33.494005",
     "exception": false,
     "start_time": "2021-03-07T21:25:33.438448",
     "status": "completed"
    },
    "tags": []
   },
   "outputs": [
    {
     "name": "stdout",
     "output_type": "stream",
     "text": [
      "/kaggle/input/factors-affecting-campus-placement/Placement_Data_Full_Class.csv\n"
     ]
    }
   ],
   "source": [
    "# This Python 3 environment comes with many helpful analytics libraries installed\n",
    "# It is defined by the kaggle/python Docker image: https://github.com/kaggle/docker-python\n",
    "# For example, here's several helpful packages to load\n",
    "\n",
    "import numpy as np # linear algebra\n",
    "import pandas as pd # data processing, CSV file I/O (e.g. pd.read_csv)\n",
    "\n",
    "# Input data files are available in the read-only \"../input/\" directory\n",
    "# For example, running this (by clicking run or pressing Shift+Enter) will list all files under the input directory\n",
    "\n",
    "import os\n",
    "for dirname, _, filenames in os.walk('/kaggle/input'):\n",
    "    for filename in filenames:\n",
    "        print(os.path.join(dirname, filename))\n",
    "\n",
    "# You can write up to 20GB to the current directory (/kaggle/working/) that gets preserved as output when you create a version using \"Save & Run All\" \n",
    "# You can also write temporary files to /kaggle/temp/, but they won't be saved outside of the current session"
   ]
  },
  {
   "cell_type": "code",
   "execution_count": 2,
   "metadata": {
    "execution": {
     "iopub.execute_input": "2021-03-07T21:25:33.577404Z",
     "iopub.status.busy": "2021-03-07T21:25:33.576569Z",
     "iopub.status.idle": "2021-03-07T21:25:37.067216Z",
     "shell.execute_reply": "2021-03-07T21:25:37.066270Z"
    },
    "papermill": {
     "duration": 3.538395,
     "end_time": "2021-03-07T21:25:37.067416",
     "exception": false,
     "start_time": "2021-03-07T21:25:33.529021",
     "status": "completed"
    },
    "tags": []
   },
   "outputs": [],
   "source": [
    "import pandas\n",
    "import numpy as np\n",
    "import matplotlib.pyplot as plt\n",
    "import seaborn as sns; sns.set()\n",
    "\n",
    "from sklearn import tree\n",
    "import graphviz \n",
    "import os\n",
    "import preprocessing \n",
    "\n",
    "from pandas_profiling import ProfileReport\n",
    "\n",
    "from sklearn.feature_selection import SelectKBest\n",
    "from sklearn.feature_selection import chi2, f_classif\n",
    "from sklearn.model_selection import KFold\n",
    "from sklearn.feature_selection import SelectFromModel\n",
    "from sklearn.svm import LinearSVC\n",
    "\n",
    "from sklearn.model_selection import cross_val_score\n",
    "from sklearn.model_selection import cross_val_predict\n",
    "\n",
    "from sklearn.preprocessing import normalize\n",
    "from sklearn.preprocessing import StandardScaler, LabelEncoder, OneHotEncoder\n",
    "from sklearn.model_selection import train_test_split\n",
    "\n",
    "from sklearn.pipeline import Pipeline, make_pipeline\n",
    "from sklearn.decomposition import PCA\n",
    "\n",
    "from sklearn.naive_bayes import GaussianNB\n",
    "from sklearn.naive_bayes import MultinomialNB\n",
    "from sklearn.naive_bayes import BernoulliNB\n",
    "from sklearn.naive_bayes import CategoricalNB\n",
    "from sklearn.linear_model import LinearRegression\n",
    "from sklearn.neighbors import KNeighborsClassifier\n",
    "from sklearn.linear_model import LogisticRegression\n",
    "from sklearn.tree import DecisionTreeClassifier\n",
    "from sklearn.svm import SVC\n",
    "from sklearn.cluster import KMeans\n",
    "from sklearn.ensemble import RandomForestClassifier\n",
    "from sklearn.neighbors import KNeighborsClassifier\n",
    "from sklearn.ensemble import GradientBoostingClassifier\n",
    "from sklearn.preprocessing import StandardScaler\n",
    "from xgboost import XGBClassifier\n",
    "\n",
    "from sklearn.metrics import confusion_matrix, accuracy_score\n",
    "from sklearn.metrics import precision_score, recall_score, f1_score\n",
    "from sklearn.metrics import classification_report\n",
    "from sklearn.model_selection import GridSearchCV, cross_val_score\n",
    "from sklearn.model_selection import GridSearchCV\n",
    "\n",
    "from sklearn.naive_bayes import GaussianNB\n",
    "from sklearn.linear_model import SGDClassifier, LogisticRegression\n",
    "from sklearn.neighbors import KNeighborsClassifier\n",
    "from sklearn.tree import DecisionTreeClassifier\n",
    "from sklearn.ensemble import RandomForestClassifier\n",
    "from sklearn.svm import SVC\n",
    "from sklearn.neural_network import MLPClassifier\n",
    "from xgboost import XGBClassifier, XGBRFClassifier\n",
    "from xgboost import plot_tree, plot_importance\n",
    "\n",
    "from sklearn.metrics import confusion_matrix, accuracy_score, roc_auc_score, roc_curve\n",
    "from sklearn import preprocessing\n",
    "from sklearn.model_selection import train_test_split\n",
    "from sklearn.feature_selection import RFE\n",
    "\n",
    "from sklearn.decomposition import PCA\n",
    "from sklearn.discriminant_analysis import LinearDiscriminantAnalysis\n",
    "\n",
    "\n",
    "import warnings\n",
    "warnings.filterwarnings(\"ignore\")"
   ]
  },
  {
   "cell_type": "code",
   "execution_count": 3,
   "metadata": {
    "execution": {
     "iopub.execute_input": "2021-03-07T21:25:37.140370Z",
     "iopub.status.busy": "2021-03-07T21:25:37.139519Z",
     "iopub.status.idle": "2021-03-07T21:25:37.197178Z",
     "shell.execute_reply": "2021-03-07T21:25:37.196569Z"
    },
    "papermill": {
     "duration": 0.097153,
     "end_time": "2021-03-07T21:25:37.197340",
     "exception": false,
     "start_time": "2021-03-07T21:25:37.100187",
     "status": "completed"
    },
    "tags": []
   },
   "outputs": [
    {
     "data": {
      "text/html": [
       "<div>\n",
       "<style scoped>\n",
       "    .dataframe tbody tr th:only-of-type {\n",
       "        vertical-align: middle;\n",
       "    }\n",
       "\n",
       "    .dataframe tbody tr th {\n",
       "        vertical-align: top;\n",
       "    }\n",
       "\n",
       "    .dataframe thead th {\n",
       "        text-align: right;\n",
       "    }\n",
       "</style>\n",
       "<table border=\"1\" class=\"dataframe\">\n",
       "  <thead>\n",
       "    <tr style=\"text-align: right;\">\n",
       "      <th></th>\n",
       "      <th>sl_no</th>\n",
       "      <th>gender</th>\n",
       "      <th>ssc_p</th>\n",
       "      <th>ssc_b</th>\n",
       "      <th>hsc_p</th>\n",
       "      <th>hsc_b</th>\n",
       "      <th>hsc_s</th>\n",
       "      <th>degree_p</th>\n",
       "      <th>degree_t</th>\n",
       "      <th>workex</th>\n",
       "      <th>etest_p</th>\n",
       "      <th>specialisation</th>\n",
       "      <th>mba_p</th>\n",
       "      <th>status</th>\n",
       "      <th>salary</th>\n",
       "    </tr>\n",
       "  </thead>\n",
       "  <tbody>\n",
       "    <tr>\n",
       "      <th>0</th>\n",
       "      <td>1</td>\n",
       "      <td>M</td>\n",
       "      <td>67.00</td>\n",
       "      <td>Others</td>\n",
       "      <td>91.00</td>\n",
       "      <td>Others</td>\n",
       "      <td>Commerce</td>\n",
       "      <td>58.00</td>\n",
       "      <td>Sci&amp;Tech</td>\n",
       "      <td>No</td>\n",
       "      <td>55.0</td>\n",
       "      <td>Mkt&amp;HR</td>\n",
       "      <td>58.80</td>\n",
       "      <td>Placed</td>\n",
       "      <td>270000.0</td>\n",
       "    </tr>\n",
       "    <tr>\n",
       "      <th>1</th>\n",
       "      <td>2</td>\n",
       "      <td>M</td>\n",
       "      <td>79.33</td>\n",
       "      <td>Central</td>\n",
       "      <td>78.33</td>\n",
       "      <td>Others</td>\n",
       "      <td>Science</td>\n",
       "      <td>77.48</td>\n",
       "      <td>Sci&amp;Tech</td>\n",
       "      <td>Yes</td>\n",
       "      <td>86.5</td>\n",
       "      <td>Mkt&amp;Fin</td>\n",
       "      <td>66.28</td>\n",
       "      <td>Placed</td>\n",
       "      <td>200000.0</td>\n",
       "    </tr>\n",
       "    <tr>\n",
       "      <th>2</th>\n",
       "      <td>3</td>\n",
       "      <td>M</td>\n",
       "      <td>65.00</td>\n",
       "      <td>Central</td>\n",
       "      <td>68.00</td>\n",
       "      <td>Central</td>\n",
       "      <td>Arts</td>\n",
       "      <td>64.00</td>\n",
       "      <td>Comm&amp;Mgmt</td>\n",
       "      <td>No</td>\n",
       "      <td>75.0</td>\n",
       "      <td>Mkt&amp;Fin</td>\n",
       "      <td>57.80</td>\n",
       "      <td>Placed</td>\n",
       "      <td>250000.0</td>\n",
       "    </tr>\n",
       "    <tr>\n",
       "      <th>3</th>\n",
       "      <td>4</td>\n",
       "      <td>M</td>\n",
       "      <td>56.00</td>\n",
       "      <td>Central</td>\n",
       "      <td>52.00</td>\n",
       "      <td>Central</td>\n",
       "      <td>Science</td>\n",
       "      <td>52.00</td>\n",
       "      <td>Sci&amp;Tech</td>\n",
       "      <td>No</td>\n",
       "      <td>66.0</td>\n",
       "      <td>Mkt&amp;HR</td>\n",
       "      <td>59.43</td>\n",
       "      <td>Not Placed</td>\n",
       "      <td>NaN</td>\n",
       "    </tr>\n",
       "    <tr>\n",
       "      <th>4</th>\n",
       "      <td>5</td>\n",
       "      <td>M</td>\n",
       "      <td>85.80</td>\n",
       "      <td>Central</td>\n",
       "      <td>73.60</td>\n",
       "      <td>Central</td>\n",
       "      <td>Commerce</td>\n",
       "      <td>73.30</td>\n",
       "      <td>Comm&amp;Mgmt</td>\n",
       "      <td>No</td>\n",
       "      <td>96.8</td>\n",
       "      <td>Mkt&amp;Fin</td>\n",
       "      <td>55.50</td>\n",
       "      <td>Placed</td>\n",
       "      <td>425000.0</td>\n",
       "    </tr>\n",
       "  </tbody>\n",
       "</table>\n",
       "</div>"
      ],
      "text/plain": [
       "   sl_no gender  ssc_p    ssc_b  hsc_p    hsc_b     hsc_s  degree_p  \\\n",
       "0      1      M  67.00   Others  91.00   Others  Commerce     58.00   \n",
       "1      2      M  79.33  Central  78.33   Others   Science     77.48   \n",
       "2      3      M  65.00  Central  68.00  Central      Arts     64.00   \n",
       "3      4      M  56.00  Central  52.00  Central   Science     52.00   \n",
       "4      5      M  85.80  Central  73.60  Central  Commerce     73.30   \n",
       "\n",
       "    degree_t workex  etest_p specialisation  mba_p      status    salary  \n",
       "0   Sci&Tech     No     55.0         Mkt&HR  58.80      Placed  270000.0  \n",
       "1   Sci&Tech    Yes     86.5        Mkt&Fin  66.28      Placed  200000.0  \n",
       "2  Comm&Mgmt     No     75.0        Mkt&Fin  57.80      Placed  250000.0  \n",
       "3   Sci&Tech     No     66.0         Mkt&HR  59.43  Not Placed       NaN  \n",
       "4  Comm&Mgmt     No     96.8        Mkt&Fin  55.50      Placed  425000.0  "
      ]
     },
     "execution_count": 3,
     "metadata": {},
     "output_type": "execute_result"
    }
   ],
   "source": [
    "dataset = pandas.read_csv('/kaggle/input/factors-affecting-campus-placement/Placement_Data_Full_Class.csv')\n",
    "dataset.head()"
   ]
  },
  {
   "cell_type": "code",
   "execution_count": 4,
   "metadata": {
    "execution": {
     "iopub.execute_input": "2021-03-07T21:25:37.290620Z",
     "iopub.status.busy": "2021-03-07T21:25:37.289553Z",
     "iopub.status.idle": "2021-03-07T21:25:37.295543Z",
     "shell.execute_reply": "2021-03-07T21:25:37.296241Z"
    },
    "papermill": {
     "duration": 0.0665,
     "end_time": "2021-03-07T21:25:37.296479",
     "exception": false,
     "start_time": "2021-03-07T21:25:37.229979",
     "status": "completed"
    },
    "tags": []
   },
   "outputs": [
    {
     "data": {
      "text/html": [
       "<div>\n",
       "<style scoped>\n",
       "    .dataframe tbody tr th:only-of-type {\n",
       "        vertical-align: middle;\n",
       "    }\n",
       "\n",
       "    .dataframe tbody tr th {\n",
       "        vertical-align: top;\n",
       "    }\n",
       "\n",
       "    .dataframe thead th {\n",
       "        text-align: right;\n",
       "    }\n",
       "</style>\n",
       "<table border=\"1\" class=\"dataframe\">\n",
       "  <thead>\n",
       "    <tr style=\"text-align: right;\">\n",
       "      <th></th>\n",
       "      <th>sl_no</th>\n",
       "      <th>gender</th>\n",
       "      <th>ssc_p</th>\n",
       "      <th>ssc_b</th>\n",
       "      <th>hsc_p</th>\n",
       "      <th>hsc_b</th>\n",
       "      <th>hsc_s</th>\n",
       "      <th>degree_p</th>\n",
       "      <th>degree_t</th>\n",
       "      <th>workex</th>\n",
       "      <th>etest_p</th>\n",
       "      <th>specialisation</th>\n",
       "      <th>mba_p</th>\n",
       "      <th>status</th>\n",
       "      <th>salary</th>\n",
       "    </tr>\n",
       "  </thead>\n",
       "  <tbody>\n",
       "    <tr>\n",
       "      <th>210</th>\n",
       "      <td>211</td>\n",
       "      <td>M</td>\n",
       "      <td>80.6</td>\n",
       "      <td>Others</td>\n",
       "      <td>82.0</td>\n",
       "      <td>Others</td>\n",
       "      <td>Commerce</td>\n",
       "      <td>77.6</td>\n",
       "      <td>Comm&amp;Mgmt</td>\n",
       "      <td>No</td>\n",
       "      <td>91.0</td>\n",
       "      <td>Mkt&amp;Fin</td>\n",
       "      <td>74.49</td>\n",
       "      <td>Placed</td>\n",
       "      <td>400000.0</td>\n",
       "    </tr>\n",
       "    <tr>\n",
       "      <th>211</th>\n",
       "      <td>212</td>\n",
       "      <td>M</td>\n",
       "      <td>58.0</td>\n",
       "      <td>Others</td>\n",
       "      <td>60.0</td>\n",
       "      <td>Others</td>\n",
       "      <td>Science</td>\n",
       "      <td>72.0</td>\n",
       "      <td>Sci&amp;Tech</td>\n",
       "      <td>No</td>\n",
       "      <td>74.0</td>\n",
       "      <td>Mkt&amp;Fin</td>\n",
       "      <td>53.62</td>\n",
       "      <td>Placed</td>\n",
       "      <td>275000.0</td>\n",
       "    </tr>\n",
       "    <tr>\n",
       "      <th>212</th>\n",
       "      <td>213</td>\n",
       "      <td>M</td>\n",
       "      <td>67.0</td>\n",
       "      <td>Others</td>\n",
       "      <td>67.0</td>\n",
       "      <td>Others</td>\n",
       "      <td>Commerce</td>\n",
       "      <td>73.0</td>\n",
       "      <td>Comm&amp;Mgmt</td>\n",
       "      <td>Yes</td>\n",
       "      <td>59.0</td>\n",
       "      <td>Mkt&amp;Fin</td>\n",
       "      <td>69.72</td>\n",
       "      <td>Placed</td>\n",
       "      <td>295000.0</td>\n",
       "    </tr>\n",
       "    <tr>\n",
       "      <th>213</th>\n",
       "      <td>214</td>\n",
       "      <td>F</td>\n",
       "      <td>74.0</td>\n",
       "      <td>Others</td>\n",
       "      <td>66.0</td>\n",
       "      <td>Others</td>\n",
       "      <td>Commerce</td>\n",
       "      <td>58.0</td>\n",
       "      <td>Comm&amp;Mgmt</td>\n",
       "      <td>No</td>\n",
       "      <td>70.0</td>\n",
       "      <td>Mkt&amp;HR</td>\n",
       "      <td>60.23</td>\n",
       "      <td>Placed</td>\n",
       "      <td>204000.0</td>\n",
       "    </tr>\n",
       "    <tr>\n",
       "      <th>214</th>\n",
       "      <td>215</td>\n",
       "      <td>M</td>\n",
       "      <td>62.0</td>\n",
       "      <td>Central</td>\n",
       "      <td>58.0</td>\n",
       "      <td>Others</td>\n",
       "      <td>Science</td>\n",
       "      <td>53.0</td>\n",
       "      <td>Comm&amp;Mgmt</td>\n",
       "      <td>No</td>\n",
       "      <td>89.0</td>\n",
       "      <td>Mkt&amp;HR</td>\n",
       "      <td>60.22</td>\n",
       "      <td>Not Placed</td>\n",
       "      <td>NaN</td>\n",
       "    </tr>\n",
       "  </tbody>\n",
       "</table>\n",
       "</div>"
      ],
      "text/plain": [
       "     sl_no gender  ssc_p    ssc_b  hsc_p   hsc_b     hsc_s  degree_p  \\\n",
       "210    211      M   80.6   Others   82.0  Others  Commerce      77.6   \n",
       "211    212      M   58.0   Others   60.0  Others   Science      72.0   \n",
       "212    213      M   67.0   Others   67.0  Others  Commerce      73.0   \n",
       "213    214      F   74.0   Others   66.0  Others  Commerce      58.0   \n",
       "214    215      M   62.0  Central   58.0  Others   Science      53.0   \n",
       "\n",
       "      degree_t workex  etest_p specialisation  mba_p      status    salary  \n",
       "210  Comm&Mgmt     No     91.0        Mkt&Fin  74.49      Placed  400000.0  \n",
       "211   Sci&Tech     No     74.0        Mkt&Fin  53.62      Placed  275000.0  \n",
       "212  Comm&Mgmt    Yes     59.0        Mkt&Fin  69.72      Placed  295000.0  \n",
       "213  Comm&Mgmt     No     70.0         Mkt&HR  60.23      Placed  204000.0  \n",
       "214  Comm&Mgmt     No     89.0         Mkt&HR  60.22  Not Placed       NaN  "
      ]
     },
     "execution_count": 4,
     "metadata": {},
     "output_type": "execute_result"
    }
   ],
   "source": [
    "dataset.tail()"
   ]
  },
  {
   "cell_type": "markdown",
   "metadata": {
    "papermill": {
     "duration": 0.034448,
     "end_time": "2021-03-07T21:25:37.365061",
     "exception": false,
     "start_time": "2021-03-07T21:25:37.330613",
     "status": "completed"
    },
    "tags": []
   },
   "source": [
    "When we look at the data types of the features, we can see that we have some object type entries. ML algorithms can not process this this datas so we have to handle it."
   ]
  },
  {
   "cell_type": "code",
   "execution_count": 5,
   "metadata": {
    "execution": {
     "iopub.execute_input": "2021-03-07T21:25:37.453930Z",
     "iopub.status.busy": "2021-03-07T21:25:37.453002Z",
     "iopub.status.idle": "2021-03-07T21:25:37.457153Z",
     "shell.execute_reply": "2021-03-07T21:25:37.458014Z"
    },
    "papermill": {
     "duration": 0.059064,
     "end_time": "2021-03-07T21:25:37.458258",
     "exception": false,
     "start_time": "2021-03-07T21:25:37.399194",
     "status": "completed"
    },
    "tags": []
   },
   "outputs": [
    {
     "name": "stdout",
     "output_type": "stream",
     "text": [
      "<class 'pandas.core.frame.DataFrame'>\n",
      "RangeIndex: 215 entries, 0 to 214\n",
      "Data columns (total 15 columns):\n",
      " #   Column          Non-Null Count  Dtype  \n",
      "---  ------          --------------  -----  \n",
      " 0   sl_no           215 non-null    int64  \n",
      " 1   gender          215 non-null    object \n",
      " 2   ssc_p           215 non-null    float64\n",
      " 3   ssc_b           215 non-null    object \n",
      " 4   hsc_p           215 non-null    float64\n",
      " 5   hsc_b           215 non-null    object \n",
      " 6   hsc_s           215 non-null    object \n",
      " 7   degree_p        215 non-null    float64\n",
      " 8   degree_t        215 non-null    object \n",
      " 9   workex          215 non-null    object \n",
      " 10  etest_p         215 non-null    float64\n",
      " 11  specialisation  215 non-null    object \n",
      " 12  mba_p           215 non-null    float64\n",
      " 13  status          215 non-null    object \n",
      " 14  salary          148 non-null    float64\n",
      "dtypes: float64(6), int64(1), object(8)\n",
      "memory usage: 25.3+ KB\n"
     ]
    }
   ],
   "source": [
    "dataset.info()"
   ]
  },
  {
   "cell_type": "markdown",
   "metadata": {
    "papermill": {
     "duration": 0.036741,
     "end_time": "2021-03-07T21:25:37.531763",
     "exception": false,
     "start_time": "2021-03-07T21:25:37.495022",
     "status": "completed"
    },
    "tags": []
   },
   "source": [
    "Checking null variables."
   ]
  },
  {
   "cell_type": "code",
   "execution_count": 6,
   "metadata": {
    "execution": {
     "iopub.execute_input": "2021-03-07T21:25:37.609495Z",
     "iopub.status.busy": "2021-03-07T21:25:37.608588Z",
     "iopub.status.idle": "2021-03-07T21:25:37.613144Z",
     "shell.execute_reply": "2021-03-07T21:25:37.613687Z"
    },
    "papermill": {
     "duration": 0.047153,
     "end_time": "2021-03-07T21:25:37.613876",
     "exception": false,
     "start_time": "2021-03-07T21:25:37.566723",
     "status": "completed"
    },
    "tags": []
   },
   "outputs": [
    {
     "data": {
      "text/plain": [
       "67"
      ]
     },
     "execution_count": 6,
     "metadata": {},
     "output_type": "execute_result"
    }
   ],
   "source": [
    "dataset.isnull().sum().sum()"
   ]
  },
  {
   "cell_type": "markdown",
   "metadata": {
    "papermill": {
     "duration": 0.035177,
     "end_time": "2021-03-07T21:25:37.685736",
     "exception": false,
     "start_time": "2021-03-07T21:25:37.650559",
     "status": "completed"
    },
    "tags": []
   },
   "source": [
    "# Data Preprocessing"
   ]
  },
  {
   "cell_type": "markdown",
   "metadata": {
    "papermill": {
     "duration": 0.03761,
     "end_time": "2021-03-07T21:25:37.757999",
     "exception": false,
     "start_time": "2021-03-07T21:25:37.720389",
     "status": "completed"
    },
    "tags": []
   },
   "source": [
    "NaN Values Handling for Categorical Variables"
   ]
  },
  {
   "cell_type": "code",
   "execution_count": 7,
   "metadata": {
    "execution": {
     "iopub.execute_input": "2021-03-07T21:25:37.837916Z",
     "iopub.status.busy": "2021-03-07T21:25:37.836953Z",
     "iopub.status.idle": "2021-03-07T21:25:37.840452Z",
     "shell.execute_reply": "2021-03-07T21:25:37.841019Z"
    },
    "papermill": {
     "duration": 0.044781,
     "end_time": "2021-03-07T21:25:37.841193",
     "exception": false,
     "start_time": "2021-03-07T21:25:37.796412",
     "status": "completed"
    },
    "tags": []
   },
   "outputs": [
    {
     "name": "stdout",
     "output_type": "stream",
     "text": [
      "Categorical variables:\n",
      "['gender', 'ssc_b', 'hsc_b', 'hsc_s', 'degree_t', 'workex', 'specialisation', 'status']\n"
     ]
    }
   ],
   "source": [
    "# Get list of categorical variables\n",
    "categorical = (dataset.dtypes == \"object\")\n",
    "categorical_list = list(categorical[categorical].index)\n",
    "\n",
    "print(\"Categorical variables:\")\n",
    "print(categorical_list)"
   ]
  },
  {
   "cell_type": "markdown",
   "metadata": {
    "papermill": {
     "duration": 0.038534,
     "end_time": "2021-03-07T21:25:37.916443",
     "exception": false,
     "start_time": "2021-03-07T21:25:37.877909",
     "status": "completed"
    },
    "tags": []
   },
   "source": [
    "We do not have any null variable in object data type features."
   ]
  },
  {
   "cell_type": "code",
   "execution_count": 8,
   "metadata": {
    "execution": {
     "iopub.execute_input": "2021-03-07T21:25:38.002485Z",
     "iopub.status.busy": "2021-03-07T21:25:38.001338Z",
     "iopub.status.idle": "2021-03-07T21:25:38.007264Z",
     "shell.execute_reply": "2021-03-07T21:25:38.005571Z"
    },
    "papermill": {
     "duration": 0.053468,
     "end_time": "2021-03-07T21:25:38.007767",
     "exception": false,
     "start_time": "2021-03-07T21:25:37.954299",
     "status": "completed"
    },
    "tags": []
   },
   "outputs": [
    {
     "name": "stdout",
     "output_type": "stream",
     "text": [
      "gender 0\n",
      "ssc_b 0\n",
      "hsc_b 0\n",
      "hsc_s 0\n",
      "degree_t 0\n",
      "workex 0\n",
      "specialisation 0\n",
      "status 0\n"
     ]
    }
   ],
   "source": [
    "for i in categorical_list:\n",
    "    print(i, dataset[i].isnull().sum())"
   ]
  },
  {
   "cell_type": "code",
   "execution_count": 9,
   "metadata": {
    "execution": {
     "iopub.execute_input": "2021-03-07T21:25:38.098548Z",
     "iopub.status.busy": "2021-03-07T21:25:38.097679Z",
     "iopub.status.idle": "2021-03-07T21:25:38.106331Z",
     "shell.execute_reply": "2021-03-07T21:25:38.107069Z"
    },
    "papermill": {
     "duration": 0.060196,
     "end_time": "2021-03-07T21:25:38.107264",
     "exception": false,
     "start_time": "2021-03-07T21:25:38.047068",
     "status": "completed"
    },
    "tags": []
   },
   "outputs": [
    {
     "name": "stdout",
     "output_type": "stream",
     "text": [
      "gender [139  76]\n",
      "ssc_b [116  99]\n",
      "hsc_b [131  84]\n",
      "hsc_s [113  91  11]\n",
      "degree_t [145  59  11]\n",
      "workex [141  74]\n",
      "specialisation [120  95]\n",
      "status [148  67]\n"
     ]
    }
   ],
   "source": [
    "for i in categorical_list:\n",
    "    print(i, pd.value_counts(dataset[i]).unique())"
   ]
  },
  {
   "cell_type": "markdown",
   "metadata": {
    "papermill": {
     "duration": 0.036719,
     "end_time": "2021-03-07T21:25:38.180126",
     "exception": false,
     "start_time": "2021-03-07T21:25:38.143407",
     "status": "completed"
    },
    "tags": []
   },
   "source": [
    "We have two variables for gender, ssc_b hsc_b, workex, specialisation and status. We can encode them by using Label Encoding. For hsc_s and degree_t, I will use One-Hot Encoding because there are more than two variables for these features."
   ]
  },
  {
   "cell_type": "markdown",
   "metadata": {
    "papermill": {
     "duration": 0.035981,
     "end_time": "2021-03-07T21:25:38.251839",
     "exception": false,
     "start_time": "2021-03-07T21:25:38.215858",
     "status": "completed"
    },
    "tags": []
   },
   "source": [
    "# Label Encoding"
   ]
  },
  {
   "cell_type": "markdown",
   "metadata": {
    "papermill": {
     "duration": 0.035271,
     "end_time": "2021-03-07T21:25:38.323391",
     "exception": false,
     "start_time": "2021-03-07T21:25:38.288120",
     "status": "completed"
    },
    "tags": []
   },
   "source": [
    "Label Encoding is an encoding technique for handling categorical variables. In this technique, each data is assigned a unique integer."
   ]
  },
  {
   "cell_type": "code",
   "execution_count": 10,
   "metadata": {
    "execution": {
     "iopub.execute_input": "2021-03-07T21:25:38.405765Z",
     "iopub.status.busy": "2021-03-07T21:25:38.404944Z",
     "iopub.status.idle": "2021-03-07T21:25:38.409329Z",
     "shell.execute_reply": "2021-03-07T21:25:38.408516Z"
    },
    "papermill": {
     "duration": 0.049381,
     "end_time": "2021-03-07T21:25:38.409485",
     "exception": false,
     "start_time": "2021-03-07T21:25:38.360104",
     "status": "completed"
    },
    "tags": []
   },
   "outputs": [
    {
     "data": {
      "text/plain": [
       "array(['M', 'F'], dtype=object)"
      ]
     },
     "execution_count": 10,
     "metadata": {},
     "output_type": "execute_result"
    }
   ],
   "source": [
    "dataset['gender'].unique()"
   ]
  },
  {
   "cell_type": "code",
   "execution_count": 11,
   "metadata": {
    "execution": {
     "iopub.execute_input": "2021-03-07T21:25:38.488520Z",
     "iopub.status.busy": "2021-03-07T21:25:38.487636Z",
     "iopub.status.idle": "2021-03-07T21:25:38.492331Z",
     "shell.execute_reply": "2021-03-07T21:25:38.492874Z"
    },
    "papermill": {
     "duration": 0.047061,
     "end_time": "2021-03-07T21:25:38.493065",
     "exception": false,
     "start_time": "2021-03-07T21:25:38.446004",
     "status": "completed"
    },
    "tags": []
   },
   "outputs": [
    {
     "data": {
      "text/plain": [
       "array(['Others', 'Central'], dtype=object)"
      ]
     },
     "execution_count": 11,
     "metadata": {},
     "output_type": "execute_result"
    }
   ],
   "source": [
    "dataset['ssc_b'].unique()"
   ]
  },
  {
   "cell_type": "code",
   "execution_count": 12,
   "metadata": {
    "execution": {
     "iopub.execute_input": "2021-03-07T21:25:38.576418Z",
     "iopub.status.busy": "2021-03-07T21:25:38.575619Z",
     "iopub.status.idle": "2021-03-07T21:25:38.580152Z",
     "shell.execute_reply": "2021-03-07T21:25:38.579493Z"
    },
    "papermill": {
     "duration": 0.049802,
     "end_time": "2021-03-07T21:25:38.580345",
     "exception": false,
     "start_time": "2021-03-07T21:25:38.530543",
     "status": "completed"
    },
    "tags": []
   },
   "outputs": [
    {
     "data": {
      "text/plain": [
       "array(['No', 'Yes'], dtype=object)"
      ]
     },
     "execution_count": 12,
     "metadata": {},
     "output_type": "execute_result"
    }
   ],
   "source": [
    "dataset['workex'].unique()"
   ]
  },
  {
   "cell_type": "code",
   "execution_count": 13,
   "metadata": {
    "execution": {
     "iopub.execute_input": "2021-03-07T21:25:38.663437Z",
     "iopub.status.busy": "2021-03-07T21:25:38.662778Z",
     "iopub.status.idle": "2021-03-07T21:25:38.667857Z",
     "shell.execute_reply": "2021-03-07T21:25:38.667288Z"
    },
    "papermill": {
     "duration": 0.048294,
     "end_time": "2021-03-07T21:25:38.668020",
     "exception": false,
     "start_time": "2021-03-07T21:25:38.619726",
     "status": "completed"
    },
    "tags": []
   },
   "outputs": [
    {
     "data": {
      "text/plain": [
       "array(['Mkt&HR', 'Mkt&Fin'], dtype=object)"
      ]
     },
     "execution_count": 13,
     "metadata": {},
     "output_type": "execute_result"
    }
   ],
   "source": [
    "dataset['specialisation'].unique()"
   ]
  },
  {
   "cell_type": "code",
   "execution_count": 14,
   "metadata": {
    "execution": {
     "iopub.execute_input": "2021-03-07T21:25:38.753705Z",
     "iopub.status.busy": "2021-03-07T21:25:38.752351Z",
     "iopub.status.idle": "2021-03-07T21:25:38.757889Z",
     "shell.execute_reply": "2021-03-07T21:25:38.757213Z"
    },
    "papermill": {
     "duration": 0.050535,
     "end_time": "2021-03-07T21:25:38.758032",
     "exception": false,
     "start_time": "2021-03-07T21:25:38.707497",
     "status": "completed"
    },
    "tags": []
   },
   "outputs": [
    {
     "data": {
      "text/plain": [
       "array(['Placed', 'Not Placed'], dtype=object)"
      ]
     },
     "execution_count": 14,
     "metadata": {},
     "output_type": "execute_result"
    }
   ],
   "source": [
    "dataset['status'].unique()"
   ]
  },
  {
   "cell_type": "code",
   "execution_count": 15,
   "metadata": {
    "execution": {
     "iopub.execute_input": "2021-03-07T21:25:38.840707Z",
     "iopub.status.busy": "2021-03-07T21:25:38.840021Z",
     "iopub.status.idle": "2021-03-07T21:25:38.844168Z",
     "shell.execute_reply": "2021-03-07T21:25:38.843419Z"
    },
    "papermill": {
     "duration": 0.047927,
     "end_time": "2021-03-07T21:25:38.844336",
     "exception": false,
     "start_time": "2021-03-07T21:25:38.796409",
     "status": "completed"
    },
    "tags": []
   },
   "outputs": [
    {
     "data": {
      "text/plain": [
       "array(['Others', 'Central'], dtype=object)"
      ]
     },
     "execution_count": 15,
     "metadata": {},
     "output_type": "execute_result"
    }
   ],
   "source": [
    "dataset['hsc_b'].unique()"
   ]
  },
  {
   "cell_type": "code",
   "execution_count": 16,
   "metadata": {
    "execution": {
     "iopub.execute_input": "2021-03-07T21:25:38.929906Z",
     "iopub.status.busy": "2021-03-07T21:25:38.929262Z",
     "iopub.status.idle": "2021-03-07T21:25:38.933021Z",
     "shell.execute_reply": "2021-03-07T21:25:38.933517Z"
    },
    "papermill": {
     "duration": 0.050563,
     "end_time": "2021-03-07T21:25:38.933706",
     "exception": false,
     "start_time": "2021-03-07T21:25:38.883143",
     "status": "completed"
    },
    "tags": []
   },
   "outputs": [],
   "source": [
    "gender_mapping = {'M': 0, 'F': 1}\n",
    "dataset['gender'] = dataset['gender'].map(gender_mapping)"
   ]
  },
  {
   "cell_type": "code",
   "execution_count": 17,
   "metadata": {
    "execution": {
     "iopub.execute_input": "2021-03-07T21:25:39.020267Z",
     "iopub.status.busy": "2021-03-07T21:25:39.019626Z",
     "iopub.status.idle": "2021-03-07T21:25:39.022574Z",
     "shell.execute_reply": "2021-03-07T21:25:39.022029Z"
    },
    "papermill": {
     "duration": 0.049499,
     "end_time": "2021-03-07T21:25:39.022718",
     "exception": false,
     "start_time": "2021-03-07T21:25:38.973219",
     "status": "completed"
    },
    "tags": []
   },
   "outputs": [],
   "source": [
    "ssc_b_mapping = {'Others': 0, 'Central': 1}\n",
    "dataset['ssc_b'] = dataset['ssc_b'].map(ssc_b_mapping)"
   ]
  },
  {
   "cell_type": "code",
   "execution_count": 18,
   "metadata": {
    "execution": {
     "iopub.execute_input": "2021-03-07T21:25:39.107971Z",
     "iopub.status.busy": "2021-03-07T21:25:39.107252Z",
     "iopub.status.idle": "2021-03-07T21:25:39.110613Z",
     "shell.execute_reply": "2021-03-07T21:25:39.109939Z"
    },
    "papermill": {
     "duration": 0.0482,
     "end_time": "2021-03-07T21:25:39.110766",
     "exception": false,
     "start_time": "2021-03-07T21:25:39.062566",
     "status": "completed"
    },
    "tags": []
   },
   "outputs": [],
   "source": [
    "workex_mapping = {'No': 0, 'Yes': 1}\n",
    "dataset['workex'] = dataset['workex'].map(workex_mapping)"
   ]
  },
  {
   "cell_type": "code",
   "execution_count": 19,
   "metadata": {
    "execution": {
     "iopub.execute_input": "2021-03-07T21:25:39.195473Z",
     "iopub.status.busy": "2021-03-07T21:25:39.194437Z",
     "iopub.status.idle": "2021-03-07T21:25:39.198246Z",
     "shell.execute_reply": "2021-03-07T21:25:39.197566Z"
    },
    "papermill": {
     "duration": 0.049062,
     "end_time": "2021-03-07T21:25:39.198411",
     "exception": false,
     "start_time": "2021-03-07T21:25:39.149349",
     "status": "completed"
    },
    "tags": []
   },
   "outputs": [],
   "source": [
    "specialisation_mapping = {'Mkt&HR': 0, 'Mkt&Fin': 1}\n",
    "dataset['specialisation'] = dataset['specialisation'].map(specialisation_mapping)"
   ]
  },
  {
   "cell_type": "code",
   "execution_count": 20,
   "metadata": {
    "execution": {
     "iopub.execute_input": "2021-03-07T21:25:39.284675Z",
     "iopub.status.busy": "2021-03-07T21:25:39.283929Z",
     "iopub.status.idle": "2021-03-07T21:25:39.287688Z",
     "shell.execute_reply": "2021-03-07T21:25:39.287045Z"
    },
    "papermill": {
     "duration": 0.048912,
     "end_time": "2021-03-07T21:25:39.287837",
     "exception": false,
     "start_time": "2021-03-07T21:25:39.238925",
     "status": "completed"
    },
    "tags": []
   },
   "outputs": [],
   "source": [
    "status_mapping = {'Placed': 0, 'Not Placed': 1}\n",
    "dataset['status'] = dataset['status'].map(status_mapping)"
   ]
  },
  {
   "cell_type": "code",
   "execution_count": 21,
   "metadata": {
    "execution": {
     "iopub.execute_input": "2021-03-07T21:25:39.369375Z",
     "iopub.status.busy": "2021-03-07T21:25:39.368701Z",
     "iopub.status.idle": "2021-03-07T21:25:39.374202Z",
     "shell.execute_reply": "2021-03-07T21:25:39.374757Z"
    },
    "papermill": {
     "duration": 0.048096,
     "end_time": "2021-03-07T21:25:39.374940",
     "exception": false,
     "start_time": "2021-03-07T21:25:39.326844",
     "status": "completed"
    },
    "tags": []
   },
   "outputs": [],
   "source": [
    "hsc_b_mapping = {'Others': 0, 'Central': 1}\n",
    "dataset['hsc_b'] = dataset['hsc_b'].map(hsc_b_mapping)"
   ]
  },
  {
   "cell_type": "code",
   "execution_count": 22,
   "metadata": {
    "execution": {
     "iopub.execute_input": "2021-03-07T21:25:39.458713Z",
     "iopub.status.busy": "2021-03-07T21:25:39.458035Z",
     "iopub.status.idle": "2021-03-07T21:25:39.492067Z",
     "shell.execute_reply": "2021-03-07T21:25:39.492688Z"
    },
    "papermill": {
     "duration": 0.078128,
     "end_time": "2021-03-07T21:25:39.492875",
     "exception": false,
     "start_time": "2021-03-07T21:25:39.414747",
     "status": "completed"
    },
    "tags": []
   },
   "outputs": [
    {
     "data": {
      "text/html": [
       "<div>\n",
       "<style scoped>\n",
       "    .dataframe tbody tr th:only-of-type {\n",
       "        vertical-align: middle;\n",
       "    }\n",
       "\n",
       "    .dataframe tbody tr th {\n",
       "        vertical-align: top;\n",
       "    }\n",
       "\n",
       "    .dataframe thead th {\n",
       "        text-align: right;\n",
       "    }\n",
       "</style>\n",
       "<table border=\"1\" class=\"dataframe\">\n",
       "  <thead>\n",
       "    <tr style=\"text-align: right;\">\n",
       "      <th></th>\n",
       "      <th>sl_no</th>\n",
       "      <th>gender</th>\n",
       "      <th>ssc_p</th>\n",
       "      <th>ssc_b</th>\n",
       "      <th>hsc_p</th>\n",
       "      <th>hsc_b</th>\n",
       "      <th>hsc_s</th>\n",
       "      <th>degree_p</th>\n",
       "      <th>degree_t</th>\n",
       "      <th>workex</th>\n",
       "      <th>etest_p</th>\n",
       "      <th>specialisation</th>\n",
       "      <th>mba_p</th>\n",
       "      <th>status</th>\n",
       "      <th>salary</th>\n",
       "    </tr>\n",
       "  </thead>\n",
       "  <tbody>\n",
       "    <tr>\n",
       "      <th>0</th>\n",
       "      <td>1</td>\n",
       "      <td>0</td>\n",
       "      <td>67.00</td>\n",
       "      <td>0</td>\n",
       "      <td>91.00</td>\n",
       "      <td>0</td>\n",
       "      <td>Commerce</td>\n",
       "      <td>58.00</td>\n",
       "      <td>Sci&amp;Tech</td>\n",
       "      <td>0</td>\n",
       "      <td>55.0</td>\n",
       "      <td>0</td>\n",
       "      <td>58.80</td>\n",
       "      <td>0</td>\n",
       "      <td>270000.0</td>\n",
       "    </tr>\n",
       "    <tr>\n",
       "      <th>1</th>\n",
       "      <td>2</td>\n",
       "      <td>0</td>\n",
       "      <td>79.33</td>\n",
       "      <td>1</td>\n",
       "      <td>78.33</td>\n",
       "      <td>0</td>\n",
       "      <td>Science</td>\n",
       "      <td>77.48</td>\n",
       "      <td>Sci&amp;Tech</td>\n",
       "      <td>1</td>\n",
       "      <td>86.5</td>\n",
       "      <td>1</td>\n",
       "      <td>66.28</td>\n",
       "      <td>0</td>\n",
       "      <td>200000.0</td>\n",
       "    </tr>\n",
       "    <tr>\n",
       "      <th>2</th>\n",
       "      <td>3</td>\n",
       "      <td>0</td>\n",
       "      <td>65.00</td>\n",
       "      <td>1</td>\n",
       "      <td>68.00</td>\n",
       "      <td>1</td>\n",
       "      <td>Arts</td>\n",
       "      <td>64.00</td>\n",
       "      <td>Comm&amp;Mgmt</td>\n",
       "      <td>0</td>\n",
       "      <td>75.0</td>\n",
       "      <td>1</td>\n",
       "      <td>57.80</td>\n",
       "      <td>0</td>\n",
       "      <td>250000.0</td>\n",
       "    </tr>\n",
       "    <tr>\n",
       "      <th>3</th>\n",
       "      <td>4</td>\n",
       "      <td>0</td>\n",
       "      <td>56.00</td>\n",
       "      <td>1</td>\n",
       "      <td>52.00</td>\n",
       "      <td>1</td>\n",
       "      <td>Science</td>\n",
       "      <td>52.00</td>\n",
       "      <td>Sci&amp;Tech</td>\n",
       "      <td>0</td>\n",
       "      <td>66.0</td>\n",
       "      <td>0</td>\n",
       "      <td>59.43</td>\n",
       "      <td>1</td>\n",
       "      <td>NaN</td>\n",
       "    </tr>\n",
       "    <tr>\n",
       "      <th>4</th>\n",
       "      <td>5</td>\n",
       "      <td>0</td>\n",
       "      <td>85.80</td>\n",
       "      <td>1</td>\n",
       "      <td>73.60</td>\n",
       "      <td>1</td>\n",
       "      <td>Commerce</td>\n",
       "      <td>73.30</td>\n",
       "      <td>Comm&amp;Mgmt</td>\n",
       "      <td>0</td>\n",
       "      <td>96.8</td>\n",
       "      <td>1</td>\n",
       "      <td>55.50</td>\n",
       "      <td>0</td>\n",
       "      <td>425000.0</td>\n",
       "    </tr>\n",
       "    <tr>\n",
       "      <th>...</th>\n",
       "      <td>...</td>\n",
       "      <td>...</td>\n",
       "      <td>...</td>\n",
       "      <td>...</td>\n",
       "      <td>...</td>\n",
       "      <td>...</td>\n",
       "      <td>...</td>\n",
       "      <td>...</td>\n",
       "      <td>...</td>\n",
       "      <td>...</td>\n",
       "      <td>...</td>\n",
       "      <td>...</td>\n",
       "      <td>...</td>\n",
       "      <td>...</td>\n",
       "      <td>...</td>\n",
       "    </tr>\n",
       "    <tr>\n",
       "      <th>210</th>\n",
       "      <td>211</td>\n",
       "      <td>0</td>\n",
       "      <td>80.60</td>\n",
       "      <td>0</td>\n",
       "      <td>82.00</td>\n",
       "      <td>0</td>\n",
       "      <td>Commerce</td>\n",
       "      <td>77.60</td>\n",
       "      <td>Comm&amp;Mgmt</td>\n",
       "      <td>0</td>\n",
       "      <td>91.0</td>\n",
       "      <td>1</td>\n",
       "      <td>74.49</td>\n",
       "      <td>0</td>\n",
       "      <td>400000.0</td>\n",
       "    </tr>\n",
       "    <tr>\n",
       "      <th>211</th>\n",
       "      <td>212</td>\n",
       "      <td>0</td>\n",
       "      <td>58.00</td>\n",
       "      <td>0</td>\n",
       "      <td>60.00</td>\n",
       "      <td>0</td>\n",
       "      <td>Science</td>\n",
       "      <td>72.00</td>\n",
       "      <td>Sci&amp;Tech</td>\n",
       "      <td>0</td>\n",
       "      <td>74.0</td>\n",
       "      <td>1</td>\n",
       "      <td>53.62</td>\n",
       "      <td>0</td>\n",
       "      <td>275000.0</td>\n",
       "    </tr>\n",
       "    <tr>\n",
       "      <th>212</th>\n",
       "      <td>213</td>\n",
       "      <td>0</td>\n",
       "      <td>67.00</td>\n",
       "      <td>0</td>\n",
       "      <td>67.00</td>\n",
       "      <td>0</td>\n",
       "      <td>Commerce</td>\n",
       "      <td>73.00</td>\n",
       "      <td>Comm&amp;Mgmt</td>\n",
       "      <td>1</td>\n",
       "      <td>59.0</td>\n",
       "      <td>1</td>\n",
       "      <td>69.72</td>\n",
       "      <td>0</td>\n",
       "      <td>295000.0</td>\n",
       "    </tr>\n",
       "    <tr>\n",
       "      <th>213</th>\n",
       "      <td>214</td>\n",
       "      <td>1</td>\n",
       "      <td>74.00</td>\n",
       "      <td>0</td>\n",
       "      <td>66.00</td>\n",
       "      <td>0</td>\n",
       "      <td>Commerce</td>\n",
       "      <td>58.00</td>\n",
       "      <td>Comm&amp;Mgmt</td>\n",
       "      <td>0</td>\n",
       "      <td>70.0</td>\n",
       "      <td>0</td>\n",
       "      <td>60.23</td>\n",
       "      <td>0</td>\n",
       "      <td>204000.0</td>\n",
       "    </tr>\n",
       "    <tr>\n",
       "      <th>214</th>\n",
       "      <td>215</td>\n",
       "      <td>0</td>\n",
       "      <td>62.00</td>\n",
       "      <td>1</td>\n",
       "      <td>58.00</td>\n",
       "      <td>0</td>\n",
       "      <td>Science</td>\n",
       "      <td>53.00</td>\n",
       "      <td>Comm&amp;Mgmt</td>\n",
       "      <td>0</td>\n",
       "      <td>89.0</td>\n",
       "      <td>0</td>\n",
       "      <td>60.22</td>\n",
       "      <td>1</td>\n",
       "      <td>NaN</td>\n",
       "    </tr>\n",
       "  </tbody>\n",
       "</table>\n",
       "<p>215 rows × 15 columns</p>\n",
       "</div>"
      ],
      "text/plain": [
       "     sl_no  gender  ssc_p  ssc_b  hsc_p  hsc_b     hsc_s  degree_p   degree_t  \\\n",
       "0        1       0  67.00      0  91.00      0  Commerce     58.00   Sci&Tech   \n",
       "1        2       0  79.33      1  78.33      0   Science     77.48   Sci&Tech   \n",
       "2        3       0  65.00      1  68.00      1      Arts     64.00  Comm&Mgmt   \n",
       "3        4       0  56.00      1  52.00      1   Science     52.00   Sci&Tech   \n",
       "4        5       0  85.80      1  73.60      1  Commerce     73.30  Comm&Mgmt   \n",
       "..     ...     ...    ...    ...    ...    ...       ...       ...        ...   \n",
       "210    211       0  80.60      0  82.00      0  Commerce     77.60  Comm&Mgmt   \n",
       "211    212       0  58.00      0  60.00      0   Science     72.00   Sci&Tech   \n",
       "212    213       0  67.00      0  67.00      0  Commerce     73.00  Comm&Mgmt   \n",
       "213    214       1  74.00      0  66.00      0  Commerce     58.00  Comm&Mgmt   \n",
       "214    215       0  62.00      1  58.00      0   Science     53.00  Comm&Mgmt   \n",
       "\n",
       "     workex  etest_p  specialisation  mba_p  status    salary  \n",
       "0         0     55.0               0  58.80       0  270000.0  \n",
       "1         1     86.5               1  66.28       0  200000.0  \n",
       "2         0     75.0               1  57.80       0  250000.0  \n",
       "3         0     66.0               0  59.43       1       NaN  \n",
       "4         0     96.8               1  55.50       0  425000.0  \n",
       "..      ...      ...             ...    ...     ...       ...  \n",
       "210       0     91.0               1  74.49       0  400000.0  \n",
       "211       0     74.0               1  53.62       0  275000.0  \n",
       "212       1     59.0               1  69.72       0  295000.0  \n",
       "213       0     70.0               0  60.23       0  204000.0  \n",
       "214       0     89.0               0  60.22       1       NaN  \n",
       "\n",
       "[215 rows x 15 columns]"
      ]
     },
     "execution_count": 22,
     "metadata": {},
     "output_type": "execute_result"
    }
   ],
   "source": [
    "dataset"
   ]
  },
  {
   "cell_type": "markdown",
   "metadata": {
    "papermill": {
     "duration": 0.039789,
     "end_time": "2021-03-07T21:25:39.572594",
     "exception": false,
     "start_time": "2021-03-07T21:25:39.532805",
     "status": "completed"
    },
    "tags": []
   },
   "source": [
    "# One-Hot Encoding"
   ]
  },
  {
   "cell_type": "markdown",
   "metadata": {
    "papermill": {
     "duration": 0.040192,
     "end_time": "2021-03-07T21:25:39.652938",
     "exception": false,
     "start_time": "2021-03-07T21:25:39.612746",
     "status": "completed"
    },
    "tags": []
   },
   "source": [
    "One Hot Encoding is the binary representation of categorical variables. This process requires categorical values to be mapped to integer values first. Next, each integer value is represented as a binary vector with all values zero except the integer index marked with 1.\n",
    "\n",
    "One Hot Encoding makes the representation of categorical data more expressive and easy. Many machine learning algorithms cannot work directly with categorical data, so categories must be converted to numbers. This operation is required for input and output variables that are categorical.\n",
    "\n",
    "In this part, I converted categorical datas to the binary values. This operation increases the accuracy."
   ]
  },
  {
   "cell_type": "code",
   "execution_count": 23,
   "metadata": {
    "execution": {
     "iopub.execute_input": "2021-03-07T21:25:39.738300Z",
     "iopub.status.busy": "2021-03-07T21:25:39.737628Z",
     "iopub.status.idle": "2021-03-07T21:25:39.744341Z",
     "shell.execute_reply": "2021-03-07T21:25:39.744876Z"
    },
    "papermill": {
     "duration": 0.051593,
     "end_time": "2021-03-07T21:25:39.745057",
     "exception": false,
     "start_time": "2021-03-07T21:25:39.693464",
     "status": "completed"
    },
    "tags": []
   },
   "outputs": [
    {
     "data": {
      "text/plain": [
       "array(['Commerce', 'Science', 'Arts'], dtype=object)"
      ]
     },
     "execution_count": 23,
     "metadata": {},
     "output_type": "execute_result"
    }
   ],
   "source": [
    "dataset['hsc_s'].unique()"
   ]
  },
  {
   "cell_type": "code",
   "execution_count": 24,
   "metadata": {
    "execution": {
     "iopub.execute_input": "2021-03-07T21:25:39.836087Z",
     "iopub.status.busy": "2021-03-07T21:25:39.835371Z",
     "iopub.status.idle": "2021-03-07T21:25:39.840945Z",
     "shell.execute_reply": "2021-03-07T21:25:39.841613Z"
    },
    "papermill": {
     "duration": 0.053939,
     "end_time": "2021-03-07T21:25:39.841810",
     "exception": false,
     "start_time": "2021-03-07T21:25:39.787871",
     "status": "completed"
    },
    "tags": []
   },
   "outputs": [
    {
     "data": {
      "text/plain": [
       "array(['Sci&Tech', 'Comm&Mgmt', 'Others'], dtype=object)"
      ]
     },
     "execution_count": 24,
     "metadata": {},
     "output_type": "execute_result"
    }
   ],
   "source": [
    "dataset['degree_t'].unique()"
   ]
  },
  {
   "cell_type": "code",
   "execution_count": 25,
   "metadata": {
    "execution": {
     "iopub.execute_input": "2021-03-07T21:25:39.932538Z",
     "iopub.status.busy": "2021-03-07T21:25:39.931839Z",
     "iopub.status.idle": "2021-03-07T21:25:39.935583Z",
     "shell.execute_reply": "2021-03-07T21:25:39.936068Z"
    },
    "papermill": {
     "duration": 0.052458,
     "end_time": "2021-03-07T21:25:39.936252",
     "exception": false,
     "start_time": "2021-03-07T21:25:39.883794",
     "status": "completed"
    },
    "tags": []
   },
   "outputs": [],
   "source": [
    "onehotencoder = OneHotEncoder()"
   ]
  },
  {
   "cell_type": "code",
   "execution_count": 26,
   "metadata": {
    "execution": {
     "iopub.execute_input": "2021-03-07T21:25:40.027254Z",
     "iopub.status.busy": "2021-03-07T21:25:40.026288Z",
     "iopub.status.idle": "2021-03-07T21:25:40.044674Z",
     "shell.execute_reply": "2021-03-07T21:25:40.044024Z"
    },
    "papermill": {
     "duration": 0.064433,
     "end_time": "2021-03-07T21:25:40.044833",
     "exception": false,
     "start_time": "2021-03-07T21:25:39.980400",
     "status": "completed"
    },
    "tags": []
   },
   "outputs": [
    {
     "data": {
      "text/html": [
       "<div>\n",
       "<style scoped>\n",
       "    .dataframe tbody tr th:only-of-type {\n",
       "        vertical-align: middle;\n",
       "    }\n",
       "\n",
       "    .dataframe tbody tr th {\n",
       "        vertical-align: top;\n",
       "    }\n",
       "\n",
       "    .dataframe thead th {\n",
       "        text-align: right;\n",
       "    }\n",
       "</style>\n",
       "<table border=\"1\" class=\"dataframe\">\n",
       "  <thead>\n",
       "    <tr style=\"text-align: right;\">\n",
       "      <th></th>\n",
       "      <th>hsc_s_encoded_Arts</th>\n",
       "      <th>hsc_s_encoded_Commerce</th>\n",
       "      <th>hsc_s_encoded_Science</th>\n",
       "    </tr>\n",
       "  </thead>\n",
       "  <tbody>\n",
       "    <tr>\n",
       "      <th>0</th>\n",
       "      <td>0</td>\n",
       "      <td>1</td>\n",
       "      <td>0</td>\n",
       "    </tr>\n",
       "    <tr>\n",
       "      <th>1</th>\n",
       "      <td>0</td>\n",
       "      <td>0</td>\n",
       "      <td>1</td>\n",
       "    </tr>\n",
       "    <tr>\n",
       "      <th>2</th>\n",
       "      <td>1</td>\n",
       "      <td>0</td>\n",
       "      <td>0</td>\n",
       "    </tr>\n",
       "    <tr>\n",
       "      <th>3</th>\n",
       "      <td>0</td>\n",
       "      <td>0</td>\n",
       "      <td>1</td>\n",
       "    </tr>\n",
       "    <tr>\n",
       "      <th>4</th>\n",
       "      <td>0</td>\n",
       "      <td>1</td>\n",
       "      <td>0</td>\n",
       "    </tr>\n",
       "    <tr>\n",
       "      <th>...</th>\n",
       "      <td>...</td>\n",
       "      <td>...</td>\n",
       "      <td>...</td>\n",
       "    </tr>\n",
       "    <tr>\n",
       "      <th>210</th>\n",
       "      <td>0</td>\n",
       "      <td>1</td>\n",
       "      <td>0</td>\n",
       "    </tr>\n",
       "    <tr>\n",
       "      <th>211</th>\n",
       "      <td>0</td>\n",
       "      <td>0</td>\n",
       "      <td>1</td>\n",
       "    </tr>\n",
       "    <tr>\n",
       "      <th>212</th>\n",
       "      <td>0</td>\n",
       "      <td>1</td>\n",
       "      <td>0</td>\n",
       "    </tr>\n",
       "    <tr>\n",
       "      <th>213</th>\n",
       "      <td>0</td>\n",
       "      <td>1</td>\n",
       "      <td>0</td>\n",
       "    </tr>\n",
       "    <tr>\n",
       "      <th>214</th>\n",
       "      <td>0</td>\n",
       "      <td>0</td>\n",
       "      <td>1</td>\n",
       "    </tr>\n",
       "  </tbody>\n",
       "</table>\n",
       "<p>215 rows × 3 columns</p>\n",
       "</div>"
      ],
      "text/plain": [
       "     hsc_s_encoded_Arts  hsc_s_encoded_Commerce  hsc_s_encoded_Science\n",
       "0                     0                       1                      0\n",
       "1                     0                       0                      1\n",
       "2                     1                       0                      0\n",
       "3                     0                       0                      1\n",
       "4                     0                       1                      0\n",
       "..                  ...                     ...                    ...\n",
       "210                   0                       1                      0\n",
       "211                   0                       0                      1\n",
       "212                   0                       1                      0\n",
       "213                   0                       1                      0\n",
       "214                   0                       0                      1\n",
       "\n",
       "[215 rows x 3 columns]"
      ]
     },
     "execution_count": 26,
     "metadata": {},
     "output_type": "execute_result"
    }
   ],
   "source": [
    "dataset['hsc_s'] = pd.Categorical(dataset['hsc_s'])\n",
    "datasetDummies_hsc_s = pd.get_dummies(dataset['hsc_s'], prefix = 'hsc_s_encoded')\n",
    "datasetDummies_hsc_s"
   ]
  },
  {
   "cell_type": "code",
   "execution_count": 27,
   "metadata": {
    "execution": {
     "iopub.execute_input": "2021-03-07T21:25:40.149992Z",
     "iopub.status.busy": "2021-03-07T21:25:40.145758Z",
     "iopub.status.idle": "2021-03-07T21:25:40.154847Z",
     "shell.execute_reply": "2021-03-07T21:25:40.154145Z"
    },
    "papermill": {
     "duration": 0.06652,
     "end_time": "2021-03-07T21:25:40.154998",
     "exception": false,
     "start_time": "2021-03-07T21:25:40.088478",
     "status": "completed"
    },
    "tags": []
   },
   "outputs": [
    {
     "data": {
      "text/html": [
       "<div>\n",
       "<style scoped>\n",
       "    .dataframe tbody tr th:only-of-type {\n",
       "        vertical-align: middle;\n",
       "    }\n",
       "\n",
       "    .dataframe tbody tr th {\n",
       "        vertical-align: top;\n",
       "    }\n",
       "\n",
       "    .dataframe thead th {\n",
       "        text-align: right;\n",
       "    }\n",
       "</style>\n",
       "<table border=\"1\" class=\"dataframe\">\n",
       "  <thead>\n",
       "    <tr style=\"text-align: right;\">\n",
       "      <th></th>\n",
       "      <th>degree_t_encoded_Comm&amp;Mgmt</th>\n",
       "      <th>degree_t_encoded_Others</th>\n",
       "      <th>degree_t_encoded_Sci&amp;Tech</th>\n",
       "    </tr>\n",
       "  </thead>\n",
       "  <tbody>\n",
       "    <tr>\n",
       "      <th>0</th>\n",
       "      <td>0</td>\n",
       "      <td>0</td>\n",
       "      <td>1</td>\n",
       "    </tr>\n",
       "    <tr>\n",
       "      <th>1</th>\n",
       "      <td>0</td>\n",
       "      <td>0</td>\n",
       "      <td>1</td>\n",
       "    </tr>\n",
       "    <tr>\n",
       "      <th>2</th>\n",
       "      <td>1</td>\n",
       "      <td>0</td>\n",
       "      <td>0</td>\n",
       "    </tr>\n",
       "    <tr>\n",
       "      <th>3</th>\n",
       "      <td>0</td>\n",
       "      <td>0</td>\n",
       "      <td>1</td>\n",
       "    </tr>\n",
       "    <tr>\n",
       "      <th>4</th>\n",
       "      <td>1</td>\n",
       "      <td>0</td>\n",
       "      <td>0</td>\n",
       "    </tr>\n",
       "    <tr>\n",
       "      <th>...</th>\n",
       "      <td>...</td>\n",
       "      <td>...</td>\n",
       "      <td>...</td>\n",
       "    </tr>\n",
       "    <tr>\n",
       "      <th>210</th>\n",
       "      <td>1</td>\n",
       "      <td>0</td>\n",
       "      <td>0</td>\n",
       "    </tr>\n",
       "    <tr>\n",
       "      <th>211</th>\n",
       "      <td>0</td>\n",
       "      <td>0</td>\n",
       "      <td>1</td>\n",
       "    </tr>\n",
       "    <tr>\n",
       "      <th>212</th>\n",
       "      <td>1</td>\n",
       "      <td>0</td>\n",
       "      <td>0</td>\n",
       "    </tr>\n",
       "    <tr>\n",
       "      <th>213</th>\n",
       "      <td>1</td>\n",
       "      <td>0</td>\n",
       "      <td>0</td>\n",
       "    </tr>\n",
       "    <tr>\n",
       "      <th>214</th>\n",
       "      <td>1</td>\n",
       "      <td>0</td>\n",
       "      <td>0</td>\n",
       "    </tr>\n",
       "  </tbody>\n",
       "</table>\n",
       "<p>215 rows × 3 columns</p>\n",
       "</div>"
      ],
      "text/plain": [
       "     degree_t_encoded_Comm&Mgmt  degree_t_encoded_Others  \\\n",
       "0                             0                        0   \n",
       "1                             0                        0   \n",
       "2                             1                        0   \n",
       "3                             0                        0   \n",
       "4                             1                        0   \n",
       "..                          ...                      ...   \n",
       "210                           1                        0   \n",
       "211                           0                        0   \n",
       "212                           1                        0   \n",
       "213                           1                        0   \n",
       "214                           1                        0   \n",
       "\n",
       "     degree_t_encoded_Sci&Tech  \n",
       "0                            1  \n",
       "1                            1  \n",
       "2                            0  \n",
       "3                            1  \n",
       "4                            0  \n",
       "..                         ...  \n",
       "210                          0  \n",
       "211                          1  \n",
       "212                          0  \n",
       "213                          0  \n",
       "214                          0  \n",
       "\n",
       "[215 rows x 3 columns]"
      ]
     },
     "execution_count": 27,
     "metadata": {},
     "output_type": "execute_result"
    }
   ],
   "source": [
    "dataset['degree_t'] = pd.Categorical(dataset['degree_t'])\n",
    "datasetDummies_degree_t = pd.get_dummies(dataset['degree_t'], prefix = 'degree_t_encoded')\n",
    "datasetDummies_degree_t"
   ]
  },
  {
   "cell_type": "code",
   "execution_count": 28,
   "metadata": {
    "execution": {
     "iopub.execute_input": "2021-03-07T21:25:40.253670Z",
     "iopub.status.busy": "2021-03-07T21:25:40.252654Z",
     "iopub.status.idle": "2021-03-07T21:25:40.256537Z",
     "shell.execute_reply": "2021-03-07T21:25:40.255940Z"
    },
    "papermill": {
     "duration": 0.057669,
     "end_time": "2021-03-07T21:25:40.256701",
     "exception": false,
     "start_time": "2021-03-07T21:25:40.199032",
     "status": "completed"
    },
    "tags": []
   },
   "outputs": [],
   "source": [
    "dataset.drop(\"hsc_s\", axis=1, inplace=True)\n",
    "dataset.drop(\"degree_t\", axis=1, inplace=True)"
   ]
  },
  {
   "cell_type": "code",
   "execution_count": 29,
   "metadata": {
    "execution": {
     "iopub.execute_input": "2021-03-07T21:25:40.367283Z",
     "iopub.status.busy": "2021-03-07T21:25:40.354907Z",
     "iopub.status.idle": "2021-03-07T21:25:40.395939Z",
     "shell.execute_reply": "2021-03-07T21:25:40.395251Z"
    },
    "papermill": {
     "duration": 0.096533,
     "end_time": "2021-03-07T21:25:40.396105",
     "exception": false,
     "start_time": "2021-03-07T21:25:40.299572",
     "status": "completed"
    },
    "tags": []
   },
   "outputs": [
    {
     "data": {
      "text/html": [
       "<div>\n",
       "<style scoped>\n",
       "    .dataframe tbody tr th:only-of-type {\n",
       "        vertical-align: middle;\n",
       "    }\n",
       "\n",
       "    .dataframe tbody tr th {\n",
       "        vertical-align: top;\n",
       "    }\n",
       "\n",
       "    .dataframe thead th {\n",
       "        text-align: right;\n",
       "    }\n",
       "</style>\n",
       "<table border=\"1\" class=\"dataframe\">\n",
       "  <thead>\n",
       "    <tr style=\"text-align: right;\">\n",
       "      <th></th>\n",
       "      <th>sl_no</th>\n",
       "      <th>gender</th>\n",
       "      <th>ssc_p</th>\n",
       "      <th>ssc_b</th>\n",
       "      <th>hsc_p</th>\n",
       "      <th>hsc_b</th>\n",
       "      <th>degree_p</th>\n",
       "      <th>workex</th>\n",
       "      <th>etest_p</th>\n",
       "      <th>specialisation</th>\n",
       "      <th>mba_p</th>\n",
       "      <th>status</th>\n",
       "      <th>salary</th>\n",
       "      <th>hsc_s_encoded_Arts</th>\n",
       "      <th>hsc_s_encoded_Commerce</th>\n",
       "      <th>hsc_s_encoded_Science</th>\n",
       "      <th>degree_t_encoded_Comm&amp;Mgmt</th>\n",
       "      <th>degree_t_encoded_Others</th>\n",
       "      <th>degree_t_encoded_Sci&amp;Tech</th>\n",
       "    </tr>\n",
       "  </thead>\n",
       "  <tbody>\n",
       "    <tr>\n",
       "      <th>0</th>\n",
       "      <td>1</td>\n",
       "      <td>0</td>\n",
       "      <td>67.00</td>\n",
       "      <td>0</td>\n",
       "      <td>91.00</td>\n",
       "      <td>0</td>\n",
       "      <td>58.00</td>\n",
       "      <td>0</td>\n",
       "      <td>55.0</td>\n",
       "      <td>0</td>\n",
       "      <td>58.80</td>\n",
       "      <td>0</td>\n",
       "      <td>270000.0</td>\n",
       "      <td>0</td>\n",
       "      <td>1</td>\n",
       "      <td>0</td>\n",
       "      <td>0</td>\n",
       "      <td>0</td>\n",
       "      <td>1</td>\n",
       "    </tr>\n",
       "    <tr>\n",
       "      <th>1</th>\n",
       "      <td>2</td>\n",
       "      <td>0</td>\n",
       "      <td>79.33</td>\n",
       "      <td>1</td>\n",
       "      <td>78.33</td>\n",
       "      <td>0</td>\n",
       "      <td>77.48</td>\n",
       "      <td>1</td>\n",
       "      <td>86.5</td>\n",
       "      <td>1</td>\n",
       "      <td>66.28</td>\n",
       "      <td>0</td>\n",
       "      <td>200000.0</td>\n",
       "      <td>0</td>\n",
       "      <td>0</td>\n",
       "      <td>1</td>\n",
       "      <td>0</td>\n",
       "      <td>0</td>\n",
       "      <td>1</td>\n",
       "    </tr>\n",
       "    <tr>\n",
       "      <th>2</th>\n",
       "      <td>3</td>\n",
       "      <td>0</td>\n",
       "      <td>65.00</td>\n",
       "      <td>1</td>\n",
       "      <td>68.00</td>\n",
       "      <td>1</td>\n",
       "      <td>64.00</td>\n",
       "      <td>0</td>\n",
       "      <td>75.0</td>\n",
       "      <td>1</td>\n",
       "      <td>57.80</td>\n",
       "      <td>0</td>\n",
       "      <td>250000.0</td>\n",
       "      <td>1</td>\n",
       "      <td>0</td>\n",
       "      <td>0</td>\n",
       "      <td>1</td>\n",
       "      <td>0</td>\n",
       "      <td>0</td>\n",
       "    </tr>\n",
       "    <tr>\n",
       "      <th>3</th>\n",
       "      <td>4</td>\n",
       "      <td>0</td>\n",
       "      <td>56.00</td>\n",
       "      <td>1</td>\n",
       "      <td>52.00</td>\n",
       "      <td>1</td>\n",
       "      <td>52.00</td>\n",
       "      <td>0</td>\n",
       "      <td>66.0</td>\n",
       "      <td>0</td>\n",
       "      <td>59.43</td>\n",
       "      <td>1</td>\n",
       "      <td>NaN</td>\n",
       "      <td>0</td>\n",
       "      <td>0</td>\n",
       "      <td>1</td>\n",
       "      <td>0</td>\n",
       "      <td>0</td>\n",
       "      <td>1</td>\n",
       "    </tr>\n",
       "    <tr>\n",
       "      <th>4</th>\n",
       "      <td>5</td>\n",
       "      <td>0</td>\n",
       "      <td>85.80</td>\n",
       "      <td>1</td>\n",
       "      <td>73.60</td>\n",
       "      <td>1</td>\n",
       "      <td>73.30</td>\n",
       "      <td>0</td>\n",
       "      <td>96.8</td>\n",
       "      <td>1</td>\n",
       "      <td>55.50</td>\n",
       "      <td>0</td>\n",
       "      <td>425000.0</td>\n",
       "      <td>0</td>\n",
       "      <td>1</td>\n",
       "      <td>0</td>\n",
       "      <td>1</td>\n",
       "      <td>0</td>\n",
       "      <td>0</td>\n",
       "    </tr>\n",
       "    <tr>\n",
       "      <th>...</th>\n",
       "      <td>...</td>\n",
       "      <td>...</td>\n",
       "      <td>...</td>\n",
       "      <td>...</td>\n",
       "      <td>...</td>\n",
       "      <td>...</td>\n",
       "      <td>...</td>\n",
       "      <td>...</td>\n",
       "      <td>...</td>\n",
       "      <td>...</td>\n",
       "      <td>...</td>\n",
       "      <td>...</td>\n",
       "      <td>...</td>\n",
       "      <td>...</td>\n",
       "      <td>...</td>\n",
       "      <td>...</td>\n",
       "      <td>...</td>\n",
       "      <td>...</td>\n",
       "      <td>...</td>\n",
       "    </tr>\n",
       "    <tr>\n",
       "      <th>210</th>\n",
       "      <td>211</td>\n",
       "      <td>0</td>\n",
       "      <td>80.60</td>\n",
       "      <td>0</td>\n",
       "      <td>82.00</td>\n",
       "      <td>0</td>\n",
       "      <td>77.60</td>\n",
       "      <td>0</td>\n",
       "      <td>91.0</td>\n",
       "      <td>1</td>\n",
       "      <td>74.49</td>\n",
       "      <td>0</td>\n",
       "      <td>400000.0</td>\n",
       "      <td>0</td>\n",
       "      <td>1</td>\n",
       "      <td>0</td>\n",
       "      <td>1</td>\n",
       "      <td>0</td>\n",
       "      <td>0</td>\n",
       "    </tr>\n",
       "    <tr>\n",
       "      <th>211</th>\n",
       "      <td>212</td>\n",
       "      <td>0</td>\n",
       "      <td>58.00</td>\n",
       "      <td>0</td>\n",
       "      <td>60.00</td>\n",
       "      <td>0</td>\n",
       "      <td>72.00</td>\n",
       "      <td>0</td>\n",
       "      <td>74.0</td>\n",
       "      <td>1</td>\n",
       "      <td>53.62</td>\n",
       "      <td>0</td>\n",
       "      <td>275000.0</td>\n",
       "      <td>0</td>\n",
       "      <td>0</td>\n",
       "      <td>1</td>\n",
       "      <td>0</td>\n",
       "      <td>0</td>\n",
       "      <td>1</td>\n",
       "    </tr>\n",
       "    <tr>\n",
       "      <th>212</th>\n",
       "      <td>213</td>\n",
       "      <td>0</td>\n",
       "      <td>67.00</td>\n",
       "      <td>0</td>\n",
       "      <td>67.00</td>\n",
       "      <td>0</td>\n",
       "      <td>73.00</td>\n",
       "      <td>1</td>\n",
       "      <td>59.0</td>\n",
       "      <td>1</td>\n",
       "      <td>69.72</td>\n",
       "      <td>0</td>\n",
       "      <td>295000.0</td>\n",
       "      <td>0</td>\n",
       "      <td>1</td>\n",
       "      <td>0</td>\n",
       "      <td>1</td>\n",
       "      <td>0</td>\n",
       "      <td>0</td>\n",
       "    </tr>\n",
       "    <tr>\n",
       "      <th>213</th>\n",
       "      <td>214</td>\n",
       "      <td>1</td>\n",
       "      <td>74.00</td>\n",
       "      <td>0</td>\n",
       "      <td>66.00</td>\n",
       "      <td>0</td>\n",
       "      <td>58.00</td>\n",
       "      <td>0</td>\n",
       "      <td>70.0</td>\n",
       "      <td>0</td>\n",
       "      <td>60.23</td>\n",
       "      <td>0</td>\n",
       "      <td>204000.0</td>\n",
       "      <td>0</td>\n",
       "      <td>1</td>\n",
       "      <td>0</td>\n",
       "      <td>1</td>\n",
       "      <td>0</td>\n",
       "      <td>0</td>\n",
       "    </tr>\n",
       "    <tr>\n",
       "      <th>214</th>\n",
       "      <td>215</td>\n",
       "      <td>0</td>\n",
       "      <td>62.00</td>\n",
       "      <td>1</td>\n",
       "      <td>58.00</td>\n",
       "      <td>0</td>\n",
       "      <td>53.00</td>\n",
       "      <td>0</td>\n",
       "      <td>89.0</td>\n",
       "      <td>0</td>\n",
       "      <td>60.22</td>\n",
       "      <td>1</td>\n",
       "      <td>NaN</td>\n",
       "      <td>0</td>\n",
       "      <td>0</td>\n",
       "      <td>1</td>\n",
       "      <td>1</td>\n",
       "      <td>0</td>\n",
       "      <td>0</td>\n",
       "    </tr>\n",
       "  </tbody>\n",
       "</table>\n",
       "<p>215 rows × 19 columns</p>\n",
       "</div>"
      ],
      "text/plain": [
       "     sl_no  gender  ssc_p  ssc_b  hsc_p  hsc_b  degree_p  workex  etest_p  \\\n",
       "0        1       0  67.00      0  91.00      0     58.00       0     55.0   \n",
       "1        2       0  79.33      1  78.33      0     77.48       1     86.5   \n",
       "2        3       0  65.00      1  68.00      1     64.00       0     75.0   \n",
       "3        4       0  56.00      1  52.00      1     52.00       0     66.0   \n",
       "4        5       0  85.80      1  73.60      1     73.30       0     96.8   \n",
       "..     ...     ...    ...    ...    ...    ...       ...     ...      ...   \n",
       "210    211       0  80.60      0  82.00      0     77.60       0     91.0   \n",
       "211    212       0  58.00      0  60.00      0     72.00       0     74.0   \n",
       "212    213       0  67.00      0  67.00      0     73.00       1     59.0   \n",
       "213    214       1  74.00      0  66.00      0     58.00       0     70.0   \n",
       "214    215       0  62.00      1  58.00      0     53.00       0     89.0   \n",
       "\n",
       "     specialisation  mba_p  status    salary  hsc_s_encoded_Arts  \\\n",
       "0                 0  58.80       0  270000.0                   0   \n",
       "1                 1  66.28       0  200000.0                   0   \n",
       "2                 1  57.80       0  250000.0                   1   \n",
       "3                 0  59.43       1       NaN                   0   \n",
       "4                 1  55.50       0  425000.0                   0   \n",
       "..              ...    ...     ...       ...                 ...   \n",
       "210               1  74.49       0  400000.0                   0   \n",
       "211               1  53.62       0  275000.0                   0   \n",
       "212               1  69.72       0  295000.0                   0   \n",
       "213               0  60.23       0  204000.0                   0   \n",
       "214               0  60.22       1       NaN                   0   \n",
       "\n",
       "     hsc_s_encoded_Commerce  hsc_s_encoded_Science  \\\n",
       "0                         1                      0   \n",
       "1                         0                      1   \n",
       "2                         0                      0   \n",
       "3                         0                      1   \n",
       "4                         1                      0   \n",
       "..                      ...                    ...   \n",
       "210                       1                      0   \n",
       "211                       0                      1   \n",
       "212                       1                      0   \n",
       "213                       1                      0   \n",
       "214                       0                      1   \n",
       "\n",
       "     degree_t_encoded_Comm&Mgmt  degree_t_encoded_Others  \\\n",
       "0                             0                        0   \n",
       "1                             0                        0   \n",
       "2                             1                        0   \n",
       "3                             0                        0   \n",
       "4                             1                        0   \n",
       "..                          ...                      ...   \n",
       "210                           1                        0   \n",
       "211                           0                        0   \n",
       "212                           1                        0   \n",
       "213                           1                        0   \n",
       "214                           1                        0   \n",
       "\n",
       "     degree_t_encoded_Sci&Tech  \n",
       "0                            1  \n",
       "1                            1  \n",
       "2                            0  \n",
       "3                            1  \n",
       "4                            0  \n",
       "..                         ...  \n",
       "210                          0  \n",
       "211                          1  \n",
       "212                          0  \n",
       "213                          0  \n",
       "214                          0  \n",
       "\n",
       "[215 rows x 19 columns]"
      ]
     },
     "execution_count": 29,
     "metadata": {},
     "output_type": "execute_result"
    }
   ],
   "source": [
    "dataset = pd.concat([dataset, datasetDummies_hsc_s], axis=1)\n",
    "dataset = pd.concat([dataset, datasetDummies_degree_t], axis=1)\n",
    "dataset"
   ]
  },
  {
   "cell_type": "markdown",
   "metadata": {
    "papermill": {
     "duration": 0.04512,
     "end_time": "2021-03-07T21:25:40.488281",
     "exception": false,
     "start_time": "2021-03-07T21:25:40.443161",
     "status": "completed"
    },
    "tags": []
   },
   "source": [
    "All categorical variables converted to binary or numerical variables. Now we are gonna check null variables in the numerical variables."
   ]
  },
  {
   "cell_type": "code",
   "execution_count": 30,
   "metadata": {
    "execution": {
     "iopub.execute_input": "2021-03-07T21:25:40.583097Z",
     "iopub.status.busy": "2021-03-07T21:25:40.582270Z",
     "iopub.status.idle": "2021-03-07T21:25:40.586062Z",
     "shell.execute_reply": "2021-03-07T21:25:40.586559Z"
    },
    "papermill": {
     "duration": 0.053695,
     "end_time": "2021-03-07T21:25:40.586747",
     "exception": false,
     "start_time": "2021-03-07T21:25:40.533052",
     "status": "completed"
    },
    "tags": []
   },
   "outputs": [
    {
     "name": "stdout",
     "output_type": "stream",
     "text": [
      "Numerical variables:\n",
      "['ssc_p', 'hsc_p', 'degree_p', 'etest_p', 'mba_p', 'salary']\n"
     ]
    }
   ],
   "source": [
    "numerical = (dataset.dtypes == \"float64\")\n",
    "numerical_list = list(numerical[numerical].index)\n",
    "print(\"Numerical variables:\")\n",
    "print(numerical_list)"
   ]
  },
  {
   "cell_type": "code",
   "execution_count": 31,
   "metadata": {
    "execution": {
     "iopub.execute_input": "2021-03-07T21:25:40.682012Z",
     "iopub.status.busy": "2021-03-07T21:25:40.681357Z",
     "iopub.status.idle": "2021-03-07T21:25:40.687161Z",
     "shell.execute_reply": "2021-03-07T21:25:40.687705Z"
    },
    "papermill": {
     "duration": 0.057355,
     "end_time": "2021-03-07T21:25:40.687912",
     "exception": false,
     "start_time": "2021-03-07T21:25:40.630557",
     "status": "completed"
    },
    "tags": []
   },
   "outputs": [
    {
     "name": "stdout",
     "output_type": "stream",
     "text": [
      "ssc_p 0\n",
      "hsc_p 0\n",
      "degree_p 0\n",
      "etest_p 0\n",
      "mba_p 0\n",
      "salary 67\n"
     ]
    }
   ],
   "source": [
    "for i in numerical_list:\n",
    "    print(i, dataset[i].isnull().sum())"
   ]
  },
  {
   "cell_type": "markdown",
   "metadata": {
    "papermill": {
     "duration": 0.044761,
     "end_time": "2021-03-07T21:25:40.779281",
     "exception": false,
     "start_time": "2021-03-07T21:25:40.734520",
     "status": "completed"
    },
    "tags": []
   },
   "source": [
    "We have 67 null variables in the 'salary' column. We will replace these null variables with the mean of all salary values."
   ]
  },
  {
   "cell_type": "code",
   "execution_count": 32,
   "metadata": {
    "execution": {
     "iopub.execute_input": "2021-03-07T21:25:40.883139Z",
     "iopub.status.busy": "2021-03-07T21:25:40.882455Z",
     "iopub.status.idle": "2021-03-07T21:25:40.887647Z",
     "shell.execute_reply": "2021-03-07T21:25:40.886899Z"
    },
    "papermill": {
     "duration": 0.060429,
     "end_time": "2021-03-07T21:25:40.887812",
     "exception": false,
     "start_time": "2021-03-07T21:25:40.827383",
     "status": "completed"
    },
    "tags": []
   },
   "outputs": [],
   "source": [
    "dataset['salary'].fillna(dataset['salary'].mean(), inplace=True)"
   ]
  },
  {
   "cell_type": "code",
   "execution_count": 33,
   "metadata": {
    "execution": {
     "iopub.execute_input": "2021-03-07T21:25:40.986709Z",
     "iopub.status.busy": "2021-03-07T21:25:40.986027Z",
     "iopub.status.idle": "2021-03-07T21:25:41.003370Z",
     "shell.execute_reply": "2021-03-07T21:25:41.002739Z"
    },
    "papermill": {
     "duration": 0.069684,
     "end_time": "2021-03-07T21:25:41.003528",
     "exception": false,
     "start_time": "2021-03-07T21:25:40.933844",
     "status": "completed"
    },
    "tags": []
   },
   "outputs": [
    {
     "name": "stdout",
     "output_type": "stream",
     "text": [
      "<class 'pandas.core.frame.DataFrame'>\n",
      "RangeIndex: 215 entries, 0 to 214\n",
      "Data columns (total 19 columns):\n",
      " #   Column                      Non-Null Count  Dtype  \n",
      "---  ------                      --------------  -----  \n",
      " 0   sl_no                       215 non-null    int64  \n",
      " 1   gender                      215 non-null    int64  \n",
      " 2   ssc_p                       215 non-null    float64\n",
      " 3   ssc_b                       215 non-null    int64  \n",
      " 4   hsc_p                       215 non-null    float64\n",
      " 5   hsc_b                       215 non-null    int64  \n",
      " 6   degree_p                    215 non-null    float64\n",
      " 7   workex                      215 non-null    int64  \n",
      " 8   etest_p                     215 non-null    float64\n",
      " 9   specialisation              215 non-null    int64  \n",
      " 10  mba_p                       215 non-null    float64\n",
      " 11  status                      215 non-null    int64  \n",
      " 12  salary                      215 non-null    float64\n",
      " 13  hsc_s_encoded_Arts          215 non-null    uint8  \n",
      " 14  hsc_s_encoded_Commerce      215 non-null    uint8  \n",
      " 15  hsc_s_encoded_Science       215 non-null    uint8  \n",
      " 16  degree_t_encoded_Comm&Mgmt  215 non-null    uint8  \n",
      " 17  degree_t_encoded_Others     215 non-null    uint8  \n",
      " 18  degree_t_encoded_Sci&Tech   215 non-null    uint8  \n",
      "dtypes: float64(6), int64(7), uint8(6)\n",
      "memory usage: 23.2 KB\n"
     ]
    }
   ],
   "source": [
    "dataset.info()"
   ]
  },
  {
   "cell_type": "code",
   "execution_count": 34,
   "metadata": {
    "execution": {
     "iopub.execute_input": "2021-03-07T21:25:41.104600Z",
     "iopub.status.busy": "2021-03-07T21:25:41.102892Z",
     "iopub.status.idle": "2021-03-07T21:25:41.111729Z",
     "shell.execute_reply": "2021-03-07T21:25:41.111067Z"
    },
    "papermill": {
     "duration": 0.061298,
     "end_time": "2021-03-07T21:25:41.111874",
     "exception": false,
     "start_time": "2021-03-07T21:25:41.050576",
     "status": "completed"
    },
    "tags": []
   },
   "outputs": [
    {
     "data": {
      "text/plain": [
       "sl_no                         0\n",
       "gender                        0\n",
       "ssc_p                         0\n",
       "ssc_b                         0\n",
       "hsc_p                         0\n",
       "hsc_b                         0\n",
       "degree_p                      0\n",
       "workex                        0\n",
       "etest_p                       0\n",
       "specialisation                0\n",
       "mba_p                         0\n",
       "status                        0\n",
       "salary                        0\n",
       "hsc_s_encoded_Arts            0\n",
       "hsc_s_encoded_Commerce        0\n",
       "hsc_s_encoded_Science         0\n",
       "degree_t_encoded_Comm&Mgmt    0\n",
       "degree_t_encoded_Others       0\n",
       "degree_t_encoded_Sci&Tech     0\n",
       "dtype: int64"
      ]
     },
     "execution_count": 34,
     "metadata": {},
     "output_type": "execute_result"
    }
   ],
   "source": [
    "dataset.isnull().sum()"
   ]
  },
  {
   "cell_type": "markdown",
   "metadata": {
    "papermill": {
     "duration": 0.048233,
     "end_time": "2021-03-07T21:25:41.208342",
     "exception": false,
     "start_time": "2021-03-07T21:25:41.160109",
     "status": "completed"
    },
    "tags": []
   },
   "source": [
    "Final checks have been done and we are ready to go"
   ]
  },
  {
   "cell_type": "code",
   "execution_count": 35,
   "metadata": {
    "execution": {
     "iopub.execute_input": "2021-03-07T21:25:41.311135Z",
     "iopub.status.busy": "2021-03-07T21:25:41.310440Z",
     "iopub.status.idle": "2021-03-07T21:25:41.315371Z",
     "shell.execute_reply": "2021-03-07T21:25:41.314704Z"
    },
    "papermill": {
     "duration": 0.059395,
     "end_time": "2021-03-07T21:25:41.315568",
     "exception": false,
     "start_time": "2021-03-07T21:25:41.256173",
     "status": "completed"
    },
    "tags": []
   },
   "outputs": [
    {
     "data": {
      "text/plain": [
       "['sl_no',\n",
       " 'gender',\n",
       " 'ssc_p',\n",
       " 'ssc_b',\n",
       " 'hsc_p',\n",
       " 'hsc_b',\n",
       " 'degree_p',\n",
       " 'workex',\n",
       " 'etest_p',\n",
       " 'specialisation',\n",
       " 'mba_p',\n",
       " 'status',\n",
       " 'salary',\n",
       " 'hsc_s_encoded_Arts',\n",
       " 'hsc_s_encoded_Commerce',\n",
       " 'hsc_s_encoded_Science',\n",
       " 'degree_t_encoded_Comm&Mgmt',\n",
       " 'degree_t_encoded_Others',\n",
       " 'degree_t_encoded_Sci&Tech']"
      ]
     },
     "execution_count": 35,
     "metadata": {},
     "output_type": "execute_result"
    }
   ],
   "source": [
    "list(dataset.columns)"
   ]
  },
  {
   "cell_type": "code",
   "execution_count": 36,
   "metadata": {
    "execution": {
     "iopub.execute_input": "2021-03-07T21:25:41.427716Z",
     "iopub.status.busy": "2021-03-07T21:25:41.426413Z",
     "iopub.status.idle": "2021-03-07T21:25:41.434161Z",
     "shell.execute_reply": "2021-03-07T21:25:41.433400Z"
    },
    "papermill": {
     "duration": 0.067817,
     "end_time": "2021-03-07T21:25:41.434360",
     "exception": false,
     "start_time": "2021-03-07T21:25:41.366543",
     "status": "completed"
    },
    "tags": []
   },
   "outputs": [],
   "source": [
    "features = [ 'gender',\n",
    " 'ssc_p',\n",
    " 'ssc_b',\n",
    " 'hsc_p',\n",
    " 'hsc_b',\n",
    " 'degree_p',\n",
    " 'workex',\n",
    " 'etest_p',\n",
    " 'specialisation',\n",
    " 'mba_p',\n",
    " 'salary',\n",
    " 'hsc_s_encoded_Arts',\n",
    " 'hsc_s_encoded_Commerce',\n",
    " 'hsc_s_encoded_Science',\n",
    " 'degree_t_encoded_Comm&Mgmt',\n",
    " 'degree_t_encoded_Others',\n",
    " 'degree_t_encoded_Sci&Tech']\n",
    "\n",
    "label = ['status']\n",
    "\n",
    "X = dataset[features]\n",
    "y = dataset[label]"
   ]
  },
  {
   "cell_type": "code",
   "execution_count": 37,
   "metadata": {
    "execution": {
     "iopub.execute_input": "2021-03-07T21:25:41.542161Z",
     "iopub.status.busy": "2021-03-07T21:25:41.541485Z",
     "iopub.status.idle": "2021-03-07T21:25:41.546502Z",
     "shell.execute_reply": "2021-03-07T21:25:41.545789Z"
    },
    "papermill": {
     "duration": 0.061399,
     "end_time": "2021-03-07T21:25:41.546655",
     "exception": false,
     "start_time": "2021-03-07T21:25:41.485256",
     "status": "completed"
    },
    "tags": []
   },
   "outputs": [],
   "source": [
    "X = normalize(X, norm = 'l2')"
   ]
  },
  {
   "cell_type": "code",
   "execution_count": 38,
   "metadata": {
    "execution": {
     "iopub.execute_input": "2021-03-07T21:25:41.655650Z",
     "iopub.status.busy": "2021-03-07T21:25:41.654709Z",
     "iopub.status.idle": "2021-03-07T21:25:41.658330Z",
     "shell.execute_reply": "2021-03-07T21:25:41.658866Z"
    },
    "papermill": {
     "duration": 0.062311,
     "end_time": "2021-03-07T21:25:41.659043",
     "exception": false,
     "start_time": "2021-03-07T21:25:41.596732",
     "status": "completed"
    },
    "tags": []
   },
   "outputs": [
    {
     "name": "stdout",
     "output_type": "stream",
     "text": [
      "Total # of sample in whole dataset: 215\n",
      "Total # of sample in train dataset: 144\n",
      "Total # of sample in validation dataset: 35\n",
      "Total # of sample in test dataset: 36\n"
     ]
    }
   ],
   "source": [
    "X_train, X_test, y_train, y_test = train_test_split(X, y, test_size=0.33, random_state=101) \n",
    "X_valid, X_test, y_valid, y_test = train_test_split(X_test, y_test, test_size=0.5, random_state=42)\n",
    "\n",
    "print(f'Total # of sample in whole dataset: {len(X)}')\n",
    "print(f'Total # of sample in train dataset: {len(X_train)}')\n",
    "print(f'Total # of sample in validation dataset: {len(X_valid)}')\n",
    "print(f'Total # of sample in test dataset: {len(X_test)}')"
   ]
  },
  {
   "cell_type": "markdown",
   "metadata": {
    "papermill": {
     "duration": 0.052846,
     "end_time": "2021-03-07T21:25:41.760791",
     "exception": false,
     "start_time": "2021-03-07T21:25:41.707945",
     "status": "completed"
    },
    "tags": []
   },
   "source": [
    "# Scores of Models"
   ]
  },
  {
   "cell_type": "markdown",
   "metadata": {
    "papermill": {
     "duration": 0.049077,
     "end_time": "2021-03-07T21:25:41.858036",
     "exception": false,
     "start_time": "2021-03-07T21:25:41.808959",
     "status": "completed"
    },
    "tags": []
   },
   "source": [
    "These are the ML algorithms that will apply to dataset. Results will contain train-validation-test scores, confusion matrix, statistical information and classification reports for each algorithm."
   ]
  },
  {
   "cell_type": "code",
   "execution_count": 39,
   "metadata": {
    "execution": {
     "iopub.execute_input": "2021-03-07T21:25:41.976599Z",
     "iopub.status.busy": "2021-03-07T21:25:41.975445Z",
     "iopub.status.idle": "2021-03-07T21:25:43.573690Z",
     "shell.execute_reply": "2021-03-07T21:25:43.574657Z"
    },
    "papermill": {
     "duration": 1.665988,
     "end_time": "2021-03-07T21:25:43.574900",
     "exception": false,
     "start_time": "2021-03-07T21:25:41.908912",
     "status": "completed"
    },
    "tags": []
   },
   "outputs": [
    {
     "name": "stdout",
     "output_type": "stream",
     "text": [
      "GaussianNB\n",
      "Train score of trained model: 79.86111111111111\n",
      "Validation score of trained model: 80.0\n",
      "Test score of trained model: 83.33333333333334\n",
      " \n",
      "Confussion Matrix: \n",
      "[[14  0]\n",
      " [ 6 16]]\n",
      "\n",
      "Accuracy : 0.8333333333333334\n",
      "Precision: 1.0\n",
      "Recall   : 0.7272727272727273\n",
      "F1 score : 0.8421052631578948\n",
      "Specificity : 1.0\n",
      "\n",
      "Classification Report: \n",
      "              precision    recall  f1-score   support\n",
      "\n",
      "           0       0.70      1.00      0.82        14\n",
      "           1       1.00      0.73      0.84        22\n",
      "\n",
      "    accuracy                           0.83        36\n",
      "   macro avg       0.85      0.86      0.83        36\n",
      "weighted avg       0.88      0.83      0.83        36\n",
      "\n",
      "\n",
      "\n",
      "############################################################################\n",
      "\n",
      "\n",
      "\n",
      "MultinomialNB\n",
      "Train score of trained model: 70.13888888888889\n",
      "Validation score of trained model: 77.14285714285715\n",
      "Test score of trained model: 55.55555555555556\n",
      " \n",
      "Confussion Matrix: \n",
      "[[20 16]\n",
      " [ 0  0]]\n",
      "\n",
      "Accuracy : 0.5555555555555556\n",
      "Precision: 0.0\n",
      "Recall   : nan\n",
      "F1 score : nan\n",
      "Specificity : 0.5555555555555556\n",
      "\n",
      "Classification Report: \n",
      "              precision    recall  f1-score   support\n",
      "\n",
      "           0       1.00      0.56      0.71        36\n",
      "           1       0.00      0.00      0.00         0\n",
      "\n",
      "    accuracy                           0.56        36\n",
      "   macro avg       0.50      0.28      0.36        36\n",
      "weighted avg       1.00      0.56      0.71        36\n",
      "\n",
      "\n",
      "\n",
      "############################################################################\n",
      "\n",
      "\n",
      "\n",
      "BernoulliNB\n",
      "Train score of trained model: 73.61111111111111\n",
      "Validation score of trained model: 71.42857142857143\n",
      "Test score of trained model: 52.77777777777778\n",
      " \n",
      "Confussion Matrix: \n",
      "[[16 13]\n",
      " [ 4  3]]\n",
      "\n",
      "Accuracy : 0.5277777777777778\n",
      "Precision: 0.1875\n",
      "Recall   : 0.42857142857142855\n",
      "F1 score : 0.26086956521739124\n",
      "Specificity : 0.5517241379310345\n",
      "\n",
      "Classification Report: \n",
      "              precision    recall  f1-score   support\n",
      "\n",
      "           0       0.80      0.55      0.65        29\n",
      "           1       0.19      0.43      0.26         7\n",
      "\n",
      "    accuracy                           0.53        36\n",
      "   macro avg       0.49      0.49      0.46        36\n",
      "weighted avg       0.68      0.53      0.58        36\n",
      "\n",
      "\n",
      "\n",
      "############################################################################\n",
      "\n",
      "\n",
      "\n",
      "LogisticRegression\n",
      "Train score of trained model: 70.13888888888889\n",
      "Validation score of trained model: 77.14285714285715\n",
      "Test score of trained model: 55.55555555555556\n",
      " \n",
      "Confussion Matrix: \n",
      "[[20 16]\n",
      " [ 0  0]]\n",
      "\n",
      "Accuracy : 0.5555555555555556\n",
      "Precision: 0.0\n",
      "Recall   : nan\n",
      "F1 score : nan\n",
      "Specificity : 0.5555555555555556\n",
      "\n",
      "Classification Report: \n",
      "              precision    recall  f1-score   support\n",
      "\n",
      "           0       1.00      0.56      0.71        36\n",
      "           1       0.00      0.00      0.00         0\n",
      "\n",
      "    accuracy                           0.56        36\n",
      "   macro avg       0.50      0.28      0.36        36\n",
      "weighted avg       1.00      0.56      0.71        36\n",
      "\n",
      "\n",
      "\n",
      "############################################################################\n",
      "\n",
      "\n",
      "\n",
      "RandomForestClassifier\n",
      "Train score of trained model: 100.0\n",
      "Validation score of trained model: 97.14285714285714\n",
      "Test score of trained model: 97.22222222222221\n",
      " \n",
      "Confussion Matrix: \n",
      "[[20  1]\n",
      " [ 0 15]]\n",
      "\n",
      "Accuracy : 0.9722222222222222\n",
      "Precision: 0.9375\n",
      "Recall   : 1.0\n",
      "F1 score : 0.967741935483871\n",
      "Specificity : 0.9523809523809523\n",
      "\n",
      "Classification Report: \n",
      "              precision    recall  f1-score   support\n",
      "\n",
      "           0       1.00      0.95      0.98        21\n",
      "           1       0.94      1.00      0.97        15\n",
      "\n",
      "    accuracy                           0.97        36\n",
      "   macro avg       0.97      0.98      0.97        36\n",
      "weighted avg       0.97      0.97      0.97        36\n",
      "\n",
      "\n",
      "\n",
      "############################################################################\n",
      "\n",
      "\n",
      "\n",
      "SupportVectorMachine\n",
      "Train score of trained model: 70.13888888888889\n",
      "Validation score of trained model: 77.14285714285715\n",
      "Test score of trained model: 55.55555555555556\n",
      " \n",
      "Confussion Matrix: \n",
      "[[20 16]\n",
      " [ 0  0]]\n",
      "\n",
      "Accuracy : 0.5555555555555556\n",
      "Precision: 0.0\n",
      "Recall   : nan\n",
      "F1 score : nan\n",
      "Specificity : 0.5555555555555556\n",
      "\n",
      "Classification Report: \n",
      "              precision    recall  f1-score   support\n",
      "\n",
      "           0       1.00      0.56      0.71        36\n",
      "           1       0.00      0.00      0.00         0\n",
      "\n",
      "    accuracy                           0.56        36\n",
      "   macro avg       0.50      0.28      0.36        36\n",
      "weighted avg       1.00      0.56      0.71        36\n",
      "\n",
      "\n",
      "\n",
      "############################################################################\n",
      "\n",
      "\n",
      "\n",
      "DecisionTreeClassifier\n",
      "Train score of trained model: 100.0\n",
      "Validation score of trained model: 85.71428571428571\n",
      "Test score of trained model: 86.11111111111111\n",
      " \n",
      "Confussion Matrix: \n",
      "[[17  2]\n",
      " [ 3 14]]\n",
      "\n",
      "Accuracy : 0.8611111111111112\n",
      "Precision: 0.875\n",
      "Recall   : 0.8235294117647058\n",
      "F1 score : 0.8484848484848485\n",
      "Specificity : 0.8947368421052632\n",
      "\n",
      "Classification Report: \n",
      "              precision    recall  f1-score   support\n",
      "\n",
      "           0       0.85      0.89      0.87        19\n",
      "           1       0.88      0.82      0.85        17\n",
      "\n",
      "    accuracy                           0.86        36\n",
      "   macro avg       0.86      0.86      0.86        36\n",
      "weighted avg       0.86      0.86      0.86        36\n",
      "\n",
      "\n",
      "\n",
      "############################################################################\n",
      "\n",
      "\n",
      "\n",
      "KNeighborsClassifier\n",
      "Train score of trained model: 89.58333333333334\n",
      "Validation score of trained model: 88.57142857142857\n",
      "Test score of trained model: 88.88888888888889\n",
      " \n",
      "Confussion Matrix: \n",
      "[[19  3]\n",
      " [ 1 13]]\n",
      "\n",
      "Accuracy : 0.8888888888888888\n",
      "Precision: 0.8125\n",
      "Recall   : 0.9285714285714286\n",
      "F1 score : 0.8666666666666666\n",
      "Specificity : 0.8636363636363636\n",
      "\n",
      "Classification Report: \n",
      "              precision    recall  f1-score   support\n",
      "\n",
      "           0       0.95      0.86      0.90        22\n",
      "           1       0.81      0.93      0.87        14\n",
      "\n",
      "    accuracy                           0.89        36\n",
      "   macro avg       0.88      0.90      0.89        36\n",
      "weighted avg       0.90      0.89      0.89        36\n",
      "\n",
      "\n",
      "\n",
      "############################################################################\n",
      "\n",
      "\n",
      "\n",
      "GradientBoostingClassifier\n",
      "Train score of trained model: 100.0\n",
      "Validation score of trained model: 88.57142857142857\n",
      "Test score of trained model: 88.88888888888889\n",
      " \n",
      "Confussion Matrix: \n",
      "[[17  1]\n",
      " [ 3 15]]\n",
      "\n",
      "Accuracy : 0.8888888888888888\n",
      "Precision: 0.9375\n",
      "Recall   : 0.8333333333333334\n",
      "F1 score : 0.8823529411764706\n",
      "Specificity : 0.9444444444444444\n",
      "\n",
      "Classification Report: \n",
      "              precision    recall  f1-score   support\n",
      "\n",
      "           0       0.85      0.94      0.89        18\n",
      "           1       0.94      0.83      0.88        18\n",
      "\n",
      "    accuracy                           0.89        36\n",
      "   macro avg       0.89      0.89      0.89        36\n",
      "weighted avg       0.89      0.89      0.89        36\n",
      "\n",
      "\n",
      "\n",
      "############################################################################\n",
      "\n",
      "\n",
      "\n",
      "Stochastic Gradient Descent\n",
      "Train score of trained model: 70.13888888888889\n",
      "Validation score of trained model: 77.14285714285715\n",
      "Test score of trained model: 55.55555555555556\n",
      " \n",
      "Confussion Matrix: \n",
      "[[20 16]\n",
      " [ 0  0]]\n",
      "\n",
      "Accuracy : 0.5555555555555556\n",
      "Precision: 0.0\n",
      "Recall   : nan\n",
      "F1 score : nan\n",
      "Specificity : 0.5555555555555556\n",
      "\n",
      "Classification Report: \n",
      "              precision    recall  f1-score   support\n",
      "\n",
      "           0       1.00      0.56      0.71        36\n",
      "           1       0.00      0.00      0.00         0\n",
      "\n",
      "    accuracy                           0.56        36\n",
      "   macro avg       0.50      0.28      0.36        36\n",
      "weighted avg       1.00      0.56      0.71        36\n",
      "\n",
      "\n",
      "\n",
      "############################################################################\n",
      "\n",
      "\n",
      "\n",
      "Neural Nets\n",
      "Train score of trained model: 70.13888888888889\n",
      "Validation score of trained model: 77.14285714285715\n",
      "Test score of trained model: 55.55555555555556\n",
      " \n",
      "Confussion Matrix: \n",
      "[[20 16]\n",
      " [ 0  0]]\n",
      "\n",
      "Accuracy : 0.5555555555555556\n",
      "Precision: 0.0\n",
      "Recall   : nan\n",
      "F1 score : nan\n",
      "Specificity : 0.5555555555555556\n",
      "\n",
      "Classification Report: \n",
      "              precision    recall  f1-score   support\n",
      "\n",
      "           0       1.00      0.56      0.71        36\n",
      "           1       0.00      0.00      0.00         0\n",
      "\n",
      "    accuracy                           0.56        36\n",
      "   macro avg       0.50      0.28      0.36        36\n",
      "weighted avg       1.00      0.56      0.71        36\n",
      "\n",
      "\n",
      "\n",
      "############################################################################\n",
      "\n",
      "\n",
      "\n",
      "[21:25:43] WARNING: ../src/learner.cc:1061: Starting in XGBoost 1.3.0, the default evaluation metric used with the objective 'binary:logistic' was changed from 'error' to 'logloss'. Explicitly set eval_metric if you'd like to restore the old behavior.\n",
      "XGBClassifier\n",
      "Train score of trained model: 100.0\n",
      "Validation score of trained model: 100.0\n",
      "Test score of trained model: 94.44444444444444\n",
      " \n",
      "Confussion Matrix: \n",
      "[[19  1]\n",
      " [ 1 15]]\n",
      "\n",
      "Accuracy : 0.9444444444444444\n",
      "Precision: 0.9375\n",
      "Recall   : 0.9375\n",
      "F1 score : 0.9375\n",
      "Specificity : 0.95\n",
      "\n",
      "Classification Report: \n",
      "              precision    recall  f1-score   support\n",
      "\n",
      "           0       0.95      0.95      0.95        20\n",
      "           1       0.94      0.94      0.94        16\n",
      "\n",
      "    accuracy                           0.94        36\n",
      "   macro avg       0.94      0.94      0.94        36\n",
      "weighted avg       0.94      0.94      0.94        36\n",
      "\n",
      "\n",
      "\n",
      "############################################################################\n",
      "\n",
      "\n",
      "\n"
     ]
    }
   ],
   "source": [
    "models = {\n",
    "    'GaussianNB': GaussianNB(),\n",
    "    'MultinomialNB': MultinomialNB(),\n",
    "    'BernoulliNB': BernoulliNB(),\n",
    "    'LogisticRegression': LogisticRegression(),\n",
    "    'RandomForestClassifier': RandomForestClassifier(),\n",
    "    'SupportVectorMachine': SVC(),\n",
    "    'DecisionTreeClassifier': DecisionTreeClassifier(),\n",
    "    'KNeighborsClassifier': KNeighborsClassifier(),\n",
    "    'GradientBoostingClassifier': GradientBoostingClassifier(),\n",
    "    'Stochastic Gradient Descent':  SGDClassifier(max_iter=5000, random_state=0),\n",
    "    'Neural Nets': MLPClassifier(solver='lbfgs', alpha=1e-5, hidden_layer_sizes=(5000, 10), random_state=1),\n",
    "    'XGBClassifier': XGBClassifier()\n",
    "}\n",
    "\n",
    "modelNames = [\"GaussianNB\",\"MultinomialNB\",'BernoulliNB','LogisticRegression','RandomForestClassifier','SupportVectorMachine',\n",
    "             'DecisionTreeClassifier', 'KNeighborsClassifier','GradientBoostingClassifier',\n",
    "             'Stochastic Gradient Descent', 'Neural Nets', 'XGBClassifier']\n",
    "\n",
    "trainScores = []\n",
    "validationScores = []\n",
    "testScores = []\n",
    "\n",
    "for m in models:\n",
    "  model = models[m]\n",
    "  model.fit(X_train, y_train)\n",
    "  score = model.score(X_valid, y_valid)\n",
    "  #print(f'{m} validation score => {score*100}')\n",
    "    \n",
    "  print(f'{m}') \n",
    "  train_score = model.score(X_train, y_train)\n",
    "  print(f'Train score of trained model: {train_score*100}')\n",
    "  trainScores.append(train_score*100)\n",
    "\n",
    "  validation_score = model.score(X_valid, y_valid)\n",
    "  print(f'Validation score of trained model: {validation_score*100}')\n",
    "  validationScores.append(validation_score*100)\n",
    "\n",
    "  test_score = model.score(X_test, y_test)\n",
    "  print(f'Test score of trained model: {test_score*100}')\n",
    "  testScores.append(test_score*100)\n",
    "  print(\" \")\n",
    "    \n",
    "  y_predictions = model.predict(X_test)\n",
    "  conf_matrix = confusion_matrix(y_predictions, y_test)\n",
    "\n",
    "  print(f'Confussion Matrix: \\n{conf_matrix}\\n')\n",
    "\n",
    "  predictions = model.predict(X_test)\n",
    "  cm = confusion_matrix(predictions, y_test)\n",
    "\n",
    "  tn = conf_matrix[0,0]\n",
    "  fp = conf_matrix[0,1]\n",
    "  tp = conf_matrix[1,1]\n",
    "  fn = conf_matrix[1,0]\n",
    "  accuracy  = (tp + tn) / (tp + fp + tn + fn)\n",
    "  precision = tp / (tp + fp)\n",
    "  recall    = tp / (tp + fn)\n",
    "  f1score  = 2 * precision * recall / (precision + recall)\n",
    "  specificity = tn / (tn + fp)\n",
    "  print(f'Accuracy : {accuracy}')\n",
    "  print(f'Precision: {precision}')\n",
    "  print(f'Recall   : {recall}')\n",
    "  print(f'F1 score : {f1score}')\n",
    "  print(f'Specificity : {specificity}')\n",
    "  print(\"\") \n",
    "  print(f'Classification Report: \\n{classification_report(predictions, y_test)}\\n')\n",
    "  print(\"\")\n",
    "   \n",
    "  for m in range (1):\n",
    "    current = modelNames[m]\n",
    "    modelNames.remove(modelNames[m])\n",
    "\n",
    "  preds = model.predict(X_test)\n",
    "  confusion_matr = confusion_matrix(y_test, preds) #normalize = 'true'\n",
    "  print(\"############################################################################\")\n",
    "  print(\"\")\n",
    "  print(\"\")\n",
    "  print(\"\")"
   ]
  },
  {
   "cell_type": "code",
   "execution_count": 40,
   "metadata": {
    "execution": {
     "iopub.execute_input": "2021-03-07T21:25:43.688806Z",
     "iopub.status.busy": "2021-03-07T21:25:43.688014Z",
     "iopub.status.idle": "2021-03-07T21:25:44.175631Z",
     "shell.execute_reply": "2021-03-07T21:25:44.176175Z"
    },
    "papermill": {
     "duration": 0.550131,
     "end_time": "2021-03-07T21:25:44.176407",
     "exception": false,
     "start_time": "2021-03-07T21:25:43.626276",
     "status": "completed"
    },
    "tags": []
   },
   "outputs": [
    {
     "data": {
      "image/png": "[encoded data removed]",
      "text/plain": [
       "<Figure size 1440x720 with 1 Axes>"
      ]
     },
     "metadata": {},
     "output_type": "display_data"
    }
   ],
   "source": [
    "plt.figure(figsize=(20,10))\n",
    "sns.set_style('darkgrid')\n",
    "plt.title('Train - Validation - Test Scores of Models', fontweight='bold', size = 24)\n",
    "\n",
    "barWidth = 0.25\n",
    " \n",
    "bars1 = trainScores\n",
    "bars2 = validationScores\n",
    "bars3 = testScores\n",
    " \n",
    "r1 = np.arange(len(bars1))\n",
    "r2 = [x + barWidth for x in r1]\n",
    "r3 = [x + barWidth for x in r2]\n",
    " \n",
    "plt.bar(r1, bars1, color='blue', width=barWidth, edgecolor='white', label='train', yerr=0.5,ecolor=\"black\",capsize=10)\n",
    "plt.bar(r2, bars2, color='#557f2d', width=barWidth, edgecolor='white', label='validation', yerr=0.5,ecolor=\"black\",capsize=10, alpha = .50)\n",
    "plt.bar(r3, bars3, color='red', width=barWidth, edgecolor='white', label='test', yerr=0.5,ecolor=\"black\",capsize=10, hatch = '-')\n",
    " \n",
    "modelNames = [\"GaussianNB\",\"MultinomialNB\",'BernoulliNB','LogisticRegression','RandomForestClassifier','SupportVectorMachine',\n",
    "             'DecisionTreeClassifier', 'KNeighborsClassifier','GradientBoostingClassifier',\n",
    "             'Stochastic Gradient Descent', 'Neural Nets', 'XGBClassifier']\n",
    "    \n",
    "plt.xlabel('Algorithms', fontweight='bold', size = 24)\n",
    "plt.ylabel('Scores', fontweight='bold', size = 24)\n",
    "plt.xticks([r + barWidth for r in range(len(bars1))], modelNames, rotation = 75)\n",
    " \n",
    "plt.legend()\n",
    "plt.show()"
   ]
  },
  {
   "cell_type": "code",
   "execution_count": 41,
   "metadata": {
    "execution": {
     "iopub.execute_input": "2021-03-07T21:25:44.285137Z",
     "iopub.status.busy": "2021-03-07T21:25:44.284114Z",
     "iopub.status.idle": "2021-03-07T21:25:44.288096Z",
     "shell.execute_reply": "2021-03-07T21:25:44.288786Z"
    },
    "papermill": {
     "duration": 0.061306,
     "end_time": "2021-03-07T21:25:44.288981",
     "exception": false,
     "start_time": "2021-03-07T21:25:44.227675",
     "status": "completed"
    },
    "tags": []
   },
   "outputs": [
    {
     "name": "stdout",
     "output_type": "stream",
     "text": [
      "Accuracy of GaussianNB -----> 83.33333333333334\n",
      "Accuracy of MultinomialNB -----> 55.55555555555556\n",
      "Accuracy of BernoulliNB -----> 52.77777777777778\n",
      "Accuracy of LogisticRegression -----> 55.55555555555556\n",
      "Accuracy of RandomForestClassifier -----> 97.22222222222221\n",
      "Accuracy of SupportVectorMachine -----> 55.55555555555556\n",
      "Accuracy of DecisionTreeClassifier -----> 86.11111111111111\n",
      "Accuracy of KNeighborsClassifier -----> 88.88888888888889\n",
      "Accuracy of GradientBoostingClassifier -----> 88.88888888888889\n",
      "Accuracy of Stochastic Gradient Descent -----> 55.55555555555556\n",
      "Accuracy of Neural Nets -----> 55.55555555555556\n",
      "Accuracy of XGBClassifier -----> 94.44444444444444\n"
     ]
    }
   ],
   "source": [
    "for i in range(12):\n",
    "    print(f'Accuracy of {modelNames[i]} -----> {testScores[i]}')"
   ]
  },
  {
   "cell_type": "markdown",
   "metadata": {
    "papermill": {
     "duration": 0.051601,
     "end_time": "2021-03-07T21:25:44.393764",
     "exception": false,
     "start_time": "2021-03-07T21:25:44.342163",
     "status": "completed"
    },
    "tags": []
   },
   "source": [
    "According to results XGBClassifier and RandomForestClassifier are the best algorithms among them with 94.4% score."
   ]
  },
  {
   "cell_type": "markdown",
   "metadata": {
    "papermill": {
     "duration": 0.052519,
     "end_time": "2021-03-07T21:25:44.498527",
     "exception": false,
     "start_time": "2021-03-07T21:25:44.446008",
     "status": "completed"
    },
    "tags": []
   },
   "source": [
    "# Best Features Selection"
   ]
  },
  {
   "cell_type": "code",
   "execution_count": 42,
   "metadata": {
    "execution": {
     "iopub.execute_input": "2021-03-07T21:25:44.616438Z",
     "iopub.status.busy": "2021-03-07T21:25:44.615375Z",
     "iopub.status.idle": "2021-03-07T21:25:45.388618Z",
     "shell.execute_reply": "2021-03-07T21:25:45.389138Z"
    },
    "papermill": {
     "duration": 0.837944,
     "end_time": "2021-03-07T21:25:45.389373",
     "exception": false,
     "start_time": "2021-03-07T21:25:44.551429",
     "status": "completed"
    },
    "tags": []
   },
   "outputs": [
    {
     "name": "stdout",
     "output_type": "stream",
     "text": [
      "MultinomialNB\n",
      "Old Shape: (215, 17) New shape: (215, 16)\n",
      "\n",
      "\n",
      "BernoulliNB\n",
      "Old Shape: (215, 17) New shape: (215, 8)\n",
      "\n",
      "\n",
      "LogisticRegression\n",
      "Old Shape: (215, 17) New shape: (215, 5)\n",
      "\n",
      "\n",
      "RandomForestClassifier\n",
      "Old Shape: (215, 17) New shape: (215, 6)\n",
      "\n",
      "\n",
      "DecisionTreeClassifier\n",
      "Old Shape: (215, 17) New shape: (215, 5)\n",
      "\n",
      "\n",
      "GradientBoostingClassifier\n",
      "Old Shape: (215, 17) New shape: (215, 6)\n",
      "\n",
      "\n",
      "Stochastic Gradient Descent\n",
      "Old Shape: (215, 17) New shape: (215, 5)\n",
      "\n",
      "\n",
      "[21:25:45] WARNING: ../src/learner.cc:1061: Starting in XGBoost 1.3.0, the default evaluation metric used with the objective 'binary:logistic' was changed from 'error' to 'logloss'. Explicitly set eval_metric if you'd like to restore the old behavior.\n",
      "XGBClassifier\n",
      "[21:25:45] WARNING: ../src/learner.cc:1061: Starting in XGBoost 1.3.0, the default evaluation metric used with the objective 'binary:logistic' was changed from 'error' to 'logloss'. Explicitly set eval_metric if you'd like to restore the old behavior.\n",
      "Old Shape: (215, 17) New shape: (215, 8)\n",
      "\n",
      "\n"
     ]
    }
   ],
   "source": [
    "models = {\n",
    "    'MultinomialNB': MultinomialNB(),\n",
    "    'BernoulliNB': BernoulliNB(),\n",
    "    'LogisticRegression': LogisticRegression(),\n",
    "    'RandomForestClassifier': RandomForestClassifier(),\n",
    "    'DecisionTreeClassifier': DecisionTreeClassifier(),\n",
    "    'GradientBoostingClassifier': GradientBoostingClassifier(),\n",
    "    'Stochastic Gradient Descent':  SGDClassifier(max_iter=5000, random_state=0),\n",
    "    'XGBClassifier': XGBClassifier()\n",
    "}\n",
    "\n",
    "for m in models:\n",
    "  model = models[m]\n",
    "  model.fit(X_train, y_train)\n",
    "  \n",
    "  print(f'{m}') \n",
    "  best_features = SelectFromModel(model)\n",
    "  best_features.fit(X, y)\n",
    "\n",
    "  transformedX = best_features.transform(X)\n",
    "  print(f\"Old Shape: {X.shape} New shape: {transformedX.shape}\")\n",
    "  print(\"\\n\")"
   ]
  }
 ],
 "metadata": {
  "kernelspec": {
   "display_name": "Python 3",
   "language": "python",
   "name": "python3"
  },
  "language_info": {
   "codemirror_mode": {
    "name": "ipython",
    "version": 3
   },
   "file_extension": ".py",
   "mimetype": "text/x-python",
   "name": "python",
   "nbconvert_exporter": "python",
   "pygments_lexer": "ipython3",
   "version": "3.7.9"
  },
  "papermill": {
   "default_parameters": {},
   "duration": 19.718573,
   "end_time": "2021-03-07T21:25:46.357171",
   "environment_variables": {},
   "exception": null,
   "input_path": "__notebook__.ipynb",
   "output_path": "__notebook__.ipynb",
   "parameters": {},
   "start_time": "2021-03-07T21:25:26.638598",
   "version": "2.2.2"
  }
 },
 "nbformat": 4,
 "nbformat_minor": 4
}
